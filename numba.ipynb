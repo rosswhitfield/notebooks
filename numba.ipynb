{
 "cells": [
  {
   "cell_type": "code",
   "execution_count": 80,
   "metadata": {
    "nbpresent": {
     "id": "e40542f3-2ca1-4886-aa30-3d050a3ce9ed"
    }
   },
   "outputs": [],
   "source": [
    "import numba\n",
    "import numpy as np\n",
    "import math\n",
    "from numba import jit\n",
    "from javelin.io import read_stru\n",
    "from javelin.grid import Grid\n",
    "from javelin.fourier_cython import calculate_cython, approx_calculate_cython"
   ]
  },
  {
   "cell_type": "code",
   "execution_count": 147,
   "metadata": {
    "nbpresent": {
     "id": "6ca82214-7e49-48e7-a5d8-1865649cd565"
    }
   },
   "outputs": [
    {
     "name": "stdout",
     "output_type": "stream",
     "text": [
      "Found a = 4.06, b = 4.06, c = 4.06, alpha = 90.0, beta = 90.0, gamma = 90.0\n",
      "Read in these atoms:\n",
      "O     375000\n",
      "Pb    125000\n",
      "Nb     83679\n",
      "Zn     41321\n",
      "Name: symbol, dtype: int64\n"
     ]
    }
   ],
   "source": [
    "grid=Grid()\n",
    "\n",
    "\n",
    "pzn = read_stru('pzn.stru')\n",
    "\n",
    "qx1, qy1, qz1 = grid.get_squashed_q_meshgrid()\n",
    "qx1 *= (2*np.pi)\n",
    "qy1 *= (2*np.pi)\n",
    "qz1 *= (2*np.pi)\n",
    "qx1_2 = qx1*1j\n",
    "qy1_2 = qy1*1j\n",
    "qz1_2 = qz1*1j\n",
    "qx2, qy2, qz2 = grid.get_q_meshgrid()\n",
    "qx2 *= (2*np.pi)\n",
    "qy2 *= (2*np.pi)\n",
    "qz2 *= (2*np.pi)\n",
    "\n",
    "qx3 = qx2*1j\n",
    "qy3 = qy2*1j\n",
    "qz3 = qz2*1j\n",
    "\n",
    "positions = pzn.get_scaled_positions()[:1000]\n"
   ]
  },
  {
   "cell_type": "code",
   "execution_count": 97,
   "metadata": {
    "collapsed": true,
    "nbpresent": {
     "id": "9d2ef0b9-6644-4014-b1c6-002c07546bd2"
    }
   },
   "outputs": [
    {
     "name": "stdout",
     "output_type": "stream",
     "text": [
      "[[[ 0.        ]]\n",
      "\n",
      " [[ 0.06283185]]\n",
      "\n",
      " [[ 0.12566371]]\n",
      "\n",
      " [[ 0.18849556]]\n",
      "\n",
      " [[ 0.25132741]]\n",
      "\n",
      " [[ 0.31415927]]\n",
      "\n",
      " [[ 0.37699112]]\n",
      "\n",
      " [[ 0.43982297]]\n",
      "\n",
      " [[ 0.50265482]]\n",
      "\n",
      " [[ 0.56548668]]\n",
      "\n",
      " [[ 0.62831853]]\n",
      "\n",
      " [[ 0.69115038]]\n",
      "\n",
      " [[ 0.75398224]]\n",
      "\n",
      " [[ 0.81681409]]\n",
      "\n",
      " [[ 0.87964594]]\n",
      "\n",
      " [[ 0.9424778 ]]\n",
      "\n",
      " [[ 1.00530965]]\n",
      "\n",
      " [[ 1.0681415 ]]\n",
      "\n",
      " [[ 1.13097336]]\n",
      "\n",
      " [[ 1.19380521]]\n",
      "\n",
      " [[ 1.25663706]]\n",
      "\n",
      " [[ 1.31946891]]\n",
      "\n",
      " [[ 1.38230077]]\n",
      "\n",
      " [[ 1.44513262]]\n",
      "\n",
      " [[ 1.50796447]]\n",
      "\n",
      " [[ 1.57079633]]\n",
      "\n",
      " [[ 1.63362818]]\n",
      "\n",
      " [[ 1.69646003]]\n",
      "\n",
      " [[ 1.75929189]]\n",
      "\n",
      " [[ 1.82212374]]\n",
      "\n",
      " [[ 1.88495559]]\n",
      "\n",
      " [[ 1.94778745]]\n",
      "\n",
      " [[ 2.0106193 ]]\n",
      "\n",
      " [[ 2.07345115]]\n",
      "\n",
      " [[ 2.136283  ]]\n",
      "\n",
      " [[ 2.19911486]]\n",
      "\n",
      " [[ 2.26194671]]\n",
      "\n",
      " [[ 2.32477856]]\n",
      "\n",
      " [[ 2.38761042]]\n",
      "\n",
      " [[ 2.45044227]]\n",
      "\n",
      " [[ 2.51327412]]\n",
      "\n",
      " [[ 2.57610598]]\n",
      "\n",
      " [[ 2.63893783]]\n",
      "\n",
      " [[ 2.70176968]]\n",
      "\n",
      " [[ 2.76460154]]\n",
      "\n",
      " [[ 2.82743339]]\n",
      "\n",
      " [[ 2.89026524]]\n",
      "\n",
      " [[ 2.95309709]]\n",
      "\n",
      " [[ 3.01592895]]\n",
      "\n",
      " [[ 3.0787608 ]]\n",
      "\n",
      " [[ 3.14159265]]\n",
      "\n",
      " [[ 3.20442451]]\n",
      "\n",
      " [[ 3.26725636]]\n",
      "\n",
      " [[ 3.33008821]]\n",
      "\n",
      " [[ 3.39292007]]\n",
      "\n",
      " [[ 3.45575192]]\n",
      "\n",
      " [[ 3.51858377]]\n",
      "\n",
      " [[ 3.58141563]]\n",
      "\n",
      " [[ 3.64424748]]\n",
      "\n",
      " [[ 3.70707933]]\n",
      "\n",
      " [[ 3.76991118]]\n",
      "\n",
      " [[ 3.83274304]]\n",
      "\n",
      " [[ 3.89557489]]\n",
      "\n",
      " [[ 3.95840674]]\n",
      "\n",
      " [[ 4.0212386 ]]\n",
      "\n",
      " [[ 4.08407045]]\n",
      "\n",
      " [[ 4.1469023 ]]\n",
      "\n",
      " [[ 4.20973416]]\n",
      "\n",
      " [[ 4.27256601]]\n",
      "\n",
      " [[ 4.33539786]]\n",
      "\n",
      " [[ 4.39822972]]\n",
      "\n",
      " [[ 4.46106157]]\n",
      "\n",
      " [[ 4.52389342]]\n",
      "\n",
      " [[ 4.58672527]]\n",
      "\n",
      " [[ 4.64955713]]\n",
      "\n",
      " [[ 4.71238898]]\n",
      "\n",
      " [[ 4.77522083]]\n",
      "\n",
      " [[ 4.83805269]]\n",
      "\n",
      " [[ 4.90088454]]\n",
      "\n",
      " [[ 4.96371639]]\n",
      "\n",
      " [[ 5.02654825]]\n",
      "\n",
      " [[ 5.0893801 ]]\n",
      "\n",
      " [[ 5.15221195]]\n",
      "\n",
      " [[ 5.2150438 ]]\n",
      "\n",
      " [[ 5.27787566]]\n",
      "\n",
      " [[ 5.34070751]]\n",
      "\n",
      " [[ 5.40353936]]\n",
      "\n",
      " [[ 5.46637122]]\n",
      "\n",
      " [[ 5.52920307]]\n",
      "\n",
      " [[ 5.59203492]]\n",
      "\n",
      " [[ 5.65486678]]\n",
      "\n",
      " [[ 5.71769863]]\n",
      "\n",
      " [[ 5.78053048]]\n",
      "\n",
      " [[ 5.84336234]]\n",
      "\n",
      " [[ 5.90619419]]\n",
      "\n",
      " [[ 5.96902604]]\n",
      "\n",
      " [[ 6.03185789]]\n",
      "\n",
      " [[ 6.09468975]]\n",
      "\n",
      " [[ 6.1575216 ]]\n",
      "\n",
      " [[ 6.22035345]]\n",
      "\n",
      " [[ 6.28318531]]]\n"
     ]
    }
   ],
   "source": [
    "print(qx1)"
   ]
  },
  {
   "cell_type": "code",
   "execution_count": 98,
   "metadata": {
    "collapsed": true,
    "nbpresent": {
     "id": "b52943eb-710e-4f74-a7fa-bf9cf9a976cb"
    }
   },
   "outputs": [
    {
     "name": "stdout",
     "output_type": "stream",
     "text": [
      "[[[ 0.        ]\n",
      "  [ 0.        ]\n",
      "  [ 0.        ]\n",
      "  ..., \n",
      "  [ 0.        ]\n",
      "  [ 0.        ]\n",
      "  [ 0.        ]]\n",
      "\n",
      " [[ 0.06283185]\n",
      "  [ 0.06283185]\n",
      "  [ 0.06283185]\n",
      "  ..., \n",
      "  [ 0.06283185]\n",
      "  [ 0.06283185]\n",
      "  [ 0.06283185]]\n",
      "\n",
      " [[ 0.12566371]\n",
      "  [ 0.12566371]\n",
      "  [ 0.12566371]\n",
      "  ..., \n",
      "  [ 0.12566371]\n",
      "  [ 0.12566371]\n",
      "  [ 0.12566371]]\n",
      "\n",
      " ..., \n",
      " [[ 6.1575216 ]\n",
      "  [ 6.1575216 ]\n",
      "  [ 6.1575216 ]\n",
      "  ..., \n",
      "  [ 6.1575216 ]\n",
      "  [ 6.1575216 ]\n",
      "  [ 6.1575216 ]]\n",
      "\n",
      " [[ 6.22035345]\n",
      "  [ 6.22035345]\n",
      "  [ 6.22035345]\n",
      "  ..., \n",
      "  [ 6.22035345]\n",
      "  [ 6.22035345]\n",
      "  [ 6.22035345]]\n",
      "\n",
      " [[ 6.28318531]\n",
      "  [ 6.28318531]\n",
      "  [ 6.28318531]\n",
      "  ..., \n",
      "  [ 6.28318531]\n",
      "  [ 6.28318531]\n",
      "  [ 6.28318531]]]\n"
     ]
    }
   ],
   "source": [
    "print(qx2)"
   ]
  },
  {
   "cell_type": "code",
   "execution_count": 99,
   "metadata": {
    "collapsed": true,
    "nbpresent": {
     "id": "d1d7e7fb-8413-4a62-ab11-9bc7472c1683"
    }
   },
   "outputs": [
    {
     "name": "stdout",
     "output_type": "stream",
     "text": [
      "[[[ 0.+0.j        ]\n",
      "  [ 0.+0.j        ]\n",
      "  [ 0.+0.j        ]\n",
      "  ..., \n",
      "  [ 0.+0.j        ]\n",
      "  [ 0.+0.j        ]\n",
      "  [ 0.+0.j        ]]\n",
      "\n",
      " [[ 0.+0.06283185j]\n",
      "  [ 0.+0.06283185j]\n",
      "  [ 0.+0.06283185j]\n",
      "  ..., \n",
      "  [ 0.+0.06283185j]\n",
      "  [ 0.+0.06283185j]\n",
      "  [ 0.+0.06283185j]]\n",
      "\n",
      " [[ 0.+0.12566371j]\n",
      "  [ 0.+0.12566371j]\n",
      "  [ 0.+0.12566371j]\n",
      "  ..., \n",
      "  [ 0.+0.12566371j]\n",
      "  [ 0.+0.12566371j]\n",
      "  [ 0.+0.12566371j]]\n",
      "\n",
      " ..., \n",
      " [[ 0.+6.1575216j ]\n",
      "  [ 0.+6.1575216j ]\n",
      "  [ 0.+6.1575216j ]\n",
      "  ..., \n",
      "  [ 0.+6.1575216j ]\n",
      "  [ 0.+6.1575216j ]\n",
      "  [ 0.+6.1575216j ]]\n",
      "\n",
      " [[ 0.+6.22035345j]\n",
      "  [ 0.+6.22035345j]\n",
      "  [ 0.+6.22035345j]\n",
      "  ..., \n",
      "  [ 0.+6.22035345j]\n",
      "  [ 0.+6.22035345j]\n",
      "  [ 0.+6.22035345j]]\n",
      "\n",
      " [[ 0.+6.28318531j]\n",
      "  [ 0.+6.28318531j]\n",
      "  [ 0.+6.28318531j]\n",
      "  ..., \n",
      "  [ 0.+6.28318531j]\n",
      "  [ 0.+6.28318531j]\n",
      "  [ 0.+6.28318531j]]]\n"
     ]
    }
   ],
   "source": [
    "print(qx3)"
   ]
  },
  {
   "cell_type": "code",
   "execution_count": 148,
   "metadata": {},
   "outputs": [
    {
     "name": "stdout",
     "output_type": "stream",
     "text": [
      "(-127267.422558+922234.458939j)\n"
     ]
    }
   ],
   "source": [
    "temp_array = np.zeros(grid.bins, dtype=np.complex)\n",
    "calculate_cython(qx2, qy2, qz2, positions, temp_array.real, temp_array.imag)\n",
    "print(temp_array.sum())"
   ]
  },
  {
   "cell_type": "code",
   "execution_count": 149,
   "metadata": {},
   "outputs": [
    {
     "name": "stdout",
     "output_type": "stream",
     "text": [
      "(-127227.326558+922292.207797j)\n"
     ]
    }
   ],
   "source": [
    "cex = np.exp(np.linspace(0, 2j*np.pi*(1-2**-16), 2**16))\n",
    "temp_array = np.zeros(grid.bins, dtype=np.complex)\n",
    "approx_calculate_cython(grid.ll, grid.v1_delta, grid.v2_delta, grid.v3_delta, positions, temp_array.real, temp_array.imag, cex.real, cex.imag)\n",
    "print(temp_array.sum())"
   ]
  },
  {
   "cell_type": "code",
   "execution_count": 150,
   "metadata": {
    "nbpresent": {
     "id": "47b350b8-3074-4328-ad6a-7a81f4f2f27e"
    }
   },
   "outputs": [],
   "source": [
    "def f1(positions, temp_array, qx, qy, qz):\n",
    "    for atom in positions:\n",
    "        temp_array += np.exp(qx*atom[0]*1j) * np.exp(qy*atom[1]*1j) * np.exp(qz*atom[2]*1j)"
   ]
  },
  {
   "cell_type": "code",
   "execution_count": 151,
   "metadata": {},
   "outputs": [
    {
     "name": "stdout",
     "output_type": "stream",
     "text": [
      "(-127267.422558+922234.458939j)\n"
     ]
    }
   ],
   "source": [
    "temp_array = np.zeros(grid.bins, dtype=np.complex)\n",
    "f1(positions, temp_array, qx1, qy1, qz1)\n",
    "print(temp_array.sum())"
   ]
  },
  {
   "cell_type": "code",
   "execution_count": 152,
   "metadata": {},
   "outputs": [
    {
     "name": "stdout",
     "output_type": "stream",
     "text": [
      "The line_profiler extension is already loaded. To reload it, use:\n",
      "  %reload_ext line_profiler\n"
     ]
    }
   ],
   "source": [
    "%load_ext line_profiler"
   ]
  },
  {
   "cell_type": "code",
   "execution_count": 105,
   "metadata": {},
   "outputs": [],
   "source": [
    "%lprun -f f1 f1(positions, temp_array, qx1, qy1, qz1)"
   ]
  },
  {
   "cell_type": "code",
   "execution_count": 153,
   "metadata": {},
   "outputs": [],
   "source": [
    "def f1_2(positions, temp_array, qx, qy, qz):\n",
    "    for atom in positions:\n",
    "        temp_array += np.exp(qx*atom[0]) * np.exp(qy*atom[1]) * np.exp(qz*atom[2])"
   ]
  },
  {
   "cell_type": "code",
   "execution_count": 154,
   "metadata": {},
   "outputs": [
    {
     "name": "stdout",
     "output_type": "stream",
     "text": [
      "(-127267.422558+922234.458939j)\n"
     ]
    }
   ],
   "source": [
    "temp_array = np.zeros(grid.bins, dtype=np.complex)\n",
    "f1_2(positions, temp_array, qx1_2, qy1_2, qz1_2)\n",
    "print(temp_array.sum())"
   ]
  },
  {
   "cell_type": "code",
   "execution_count": 108,
   "metadata": {},
   "outputs": [],
   "source": [
    "%lprun -f f1_2 f1_2(positions, temp_array, qx1_2, qy1_2, qz1_2)"
   ]
  },
  {
   "cell_type": "code",
   "execution_count": 155,
   "metadata": {
    "nbpresent": {
     "id": "82b1da33-da09-4797-b9f6-25679ef10f67"
    }
   },
   "outputs": [],
   "source": [
    "def f2(positions, temp_array, qx, qy, qz):\n",
    "    for atom in positions:\n",
    "        dot = qx*atom[0] + qy*atom[1] + qz*atom[2]\n",
    "        temp_array += np.exp(dot*1j)"
   ]
  },
  {
   "cell_type": "code",
   "execution_count": 156,
   "metadata": {
    "nbpresent": {
     "id": "90397f40-78d4-4301-bbe0-75d1e4debaac"
    }
   },
   "outputs": [
    {
     "name": "stdout",
     "output_type": "stream",
     "text": [
      "(-127267.422558+922234.458939j)\n"
     ]
    }
   ],
   "source": [
    "temp_array = np.zeros(grid.bins, dtype=np.complex)\n",
    "f2(positions, temp_array, qx2, qy2, qz2)\n",
    "print(temp_array.sum())"
   ]
  },
  {
   "cell_type": "code",
   "execution_count": 111,
   "metadata": {},
   "outputs": [],
   "source": [
    "%lprun -f f2 f2(positions, temp_array, qx2, qy2, qz2)"
   ]
  },
  {
   "cell_type": "code",
   "execution_count": 112,
   "metadata": {
    "nbpresent": {
     "id": "8a9f9eb0-05aa-4dd2-980e-21b8936575e3"
    }
   },
   "outputs": [],
   "source": [
    "def f3(positions, temp_array, qx, qy, qz):\n",
    "    for atom in positions:\n",
    "        dot = qx*atom[0] + qy*atom[1] + qz*atom[2]\n",
    "        temp_array += np.exp(dot)"
   ]
  },
  {
   "cell_type": "code",
   "execution_count": 157,
   "metadata": {
    "nbpresent": {
     "id": "6f7409c1-be94-4954-9c36-b9fb6d48e473"
    }
   },
   "outputs": [
    {
     "name": "stdout",
     "output_type": "stream",
     "text": [
      "(-127267.422558+922234.458939j)\n"
     ]
    }
   ],
   "source": [
    "temp_array = np.zeros(grid.bins, dtype=np.complex)\n",
    "f3(positions, temp_array, qx3, qy3, qz3)\n",
    "print(temp_array.sum())"
   ]
  },
  {
   "cell_type": "code",
   "execution_count": 114,
   "metadata": {},
   "outputs": [],
   "source": [
    "%lprun -f f3 f3(positions, temp_array, qx3, qy3, qz3)"
   ]
  },
  {
   "cell_type": "code",
   "execution_count": 115,
   "metadata": {
    "nbpresent": {
     "id": "8230f822-13c7-4ba5-8c5b-36e08d6e7c8b"
    }
   },
   "outputs": [],
   "source": [
    "def f4(positions, temp_array, qx, qy, qz):\n",
    "    N = positions.shape[0]\n",
    "    A, B, C = temp_array.shape\n",
    "    for n in range(N):\n",
    "        for i in range(A):\n",
    "            for j in range(B):\n",
    "                for k in range(C):\n",
    "                    temp_array[i,j,k] += np.exp(qx[i,j,k]*positions[n,0] + qy[i,j,k]*positions[n,1] + qz[i,j,k]*positions[n,2])"
   ]
  },
  {
   "cell_type": "code",
   "execution_count": 158,
   "metadata": {
    "nbpresent": {
     "id": "50fd293a-ca1f-484a-bb92-1f1eac4ef370"
    }
   },
   "outputs": [
    {
     "name": "stdout",
     "output_type": "stream",
     "text": [
      "(-127267.422558+922234.458939j)\n"
     ]
    }
   ],
   "source": [
    "temp_array = np.zeros(grid.bins, dtype=np.complex)\n",
    "f4(positions, temp_array, qx3, qy3, qz3)\n",
    "print(temp_array.sum())"
   ]
  },
  {
   "cell_type": "code",
   "execution_count": 117,
   "metadata": {},
   "outputs": [],
   "source": [
    "%lprun -f f4 f4(positions, temp_array, qx3, qy3, qz3)"
   ]
  },
  {
   "cell_type": "code",
   "execution_count": 170,
   "metadata": {
    "nbpresent": {
     "id": "255b0ca0-1d8c-4d7d-bca0-1a24bade9d44"
    }
   },
   "outputs": [],
   "source": [
    "f1_jit = jit()(f1)\n",
    "f1_2_jit = jit()(f1_2)\n",
    "f2_jit = jit(cache=True)(f2)\n",
    "f3_jit = jit(cache=True)(f3)\n",
    "f4_jit = jit()(f4)"
   ]
  },
  {
   "cell_type": "code",
   "execution_count": 159,
   "metadata": {
    "nbpresent": {
     "id": "3fe17e30-6c81-4b04-91fd-90e96daf69d6"
    }
   },
   "outputs": [
    {
     "name": "stdout",
     "output_type": "stream",
     "text": [
      "183 ms ± 251 µs per loop (mean ± std. dev. of 7 runs, 10 loops each)\n",
      "175 ms ± 11.1 ms per loop (mean ± std. dev. of 7 runs, 10 loops each)\n"
     ]
    }
   ],
   "source": [
    "temp_array = np.zeros(grid.bins, dtype=np.complex)\n",
    "%timeit f1(positions, temp_array, qx1, qy1, qz1)\n",
    "temp_array = np.zeros(grid.bins, dtype=np.complex)\n",
    "%timeit f1_jit(positions, temp_array, qx1, qy1, qz1)"
   ]
  },
  {
   "cell_type": "code",
   "execution_count": 160,
   "metadata": {},
   "outputs": [
    {
     "name": "stdout",
     "output_type": "stream",
     "text": [
      "56.4 ms ± 1.43 ms per loop (mean ± std. dev. of 7 runs, 10 loops each)\n"
     ]
    }
   ],
   "source": [
    "temp_array = np.zeros(grid.bins, dtype=np.complex)\n",
    "%timeit calculate_cython(qx2, qy2, qz2, positions, temp_array.real, temp_array.imag)"
   ]
  },
  {
   "cell_type": "code",
   "execution_count": 161,
   "metadata": {},
   "outputs": [
    {
     "name": "stdout",
     "output_type": "stream",
     "text": [
      "8.5 ms ± 147 µs per loop (mean ± std. dev. of 7 runs, 100 loops each)\n"
     ]
    }
   ],
   "source": [
    "cex = np.exp(np.linspace(0, 2j*np.pi*(1-2**-16), 2**16))\n",
    "temp_array = np.zeros(grid.bins, dtype=np.complex)\n",
    "%timeit approx_calculate_cython(grid.ll, grid.v1_delta, grid.v2_delta, grid.v3_delta, positions, temp_array.real, temp_array.imag, cex.real, cex.imag)"
   ]
  },
  {
   "cell_type": "code",
   "execution_count": 169,
   "metadata": {},
   "outputs": [
    {
     "name": "stdout",
     "output_type": "stream",
     "text": [
      "161 ms ± 84.5 µs per loop (mean ± std. dev. of 7 runs, 10 loops each)\n",
      "162 ms ± 136 µs per loop (mean ± std. dev. of 7 runs, 1 loop each)\n"
     ]
    }
   ],
   "source": [
    "temp_array = np.zeros(grid.bins, dtype=np.complex)\n",
    "%timeit f1_2(positions, temp_array, qx1_2, qy1_2, qz1_2)\n",
    "temp_array = np.zeros(grid.bins, dtype=np.complex)\n",
    "%timeit f1_2_jit(positions, temp_array, qx1_2, qy1_2, qz1_2)"
   ]
  },
  {
   "cell_type": "code",
   "execution_count": 171,
   "metadata": {
    "nbpresent": {
     "id": "b19a326c-26ce-4a46-9424-73fa2a1fdcd2"
    }
   },
   "outputs": [
    {
     "name": "stdout",
     "output_type": "stream",
     "text": [
      "961 ms ± 3.09 ms per loop (mean ± std. dev. of 7 runs, 1 loop each)\n",
      "956 ms ± 149 µs per loop (mean ± std. dev. of 7 runs, 1 loop each)\n"
     ]
    }
   ],
   "source": [
    "temp_array = np.zeros(grid.bins, dtype=np.complex)\n",
    "%timeit f2(positions, temp_array, qx2, qy2, qz2)\n",
    "temp_array = np.zeros(grid.bins, dtype=np.complex)\n",
    "%timeit f2_jit(positions, temp_array, qx2, qy2, qz2)"
   ]
  },
  {
   "cell_type": "code",
   "execution_count": 164,
   "metadata": {
    "nbpresent": {
     "id": "06038fa4-24b8-4f50-b309-106ae6a7ae23"
    }
   },
   "outputs": [
    {
     "name": "stdout",
     "output_type": "stream",
     "text": [
      "987 ms ± 866 µs per loop (mean ± std. dev. of 7 runs, 1 loop each)\n",
      "985 ms ± 238 µs per loop (mean ± std. dev. of 7 runs, 1 loop each)\n"
     ]
    }
   ],
   "source": [
    "temp_array = np.zeros(grid.bins, dtype=np.complex)\n",
    "%timeit f3(positions, temp_array, qx3, qy3, qz3)\n",
    "temp_array = np.zeros(grid.bins, dtype=np.complex)\n",
    "%timeit f3_jit(positions, temp_array, qx3, qy3, qz3)"
   ]
  },
  {
   "cell_type": "code",
   "execution_count": 165,
   "metadata": {
    "nbpresent": {
     "id": "d538f86d-f0c3-40aa-8cc4-2a782eb9296f"
    }
   },
   "outputs": [
    {
     "name": "stdout",
     "output_type": "stream",
     "text": [
      "1min 9s ± 3.19 s per loop (mean ± std. dev. of 7 runs, 1 loop each)\n",
      "338 ms ± 631 µs per loop (mean ± std. dev. of 7 runs, 1 loop each)\n"
     ]
    }
   ],
   "source": [
    "temp_array = np.zeros(grid.bins, dtype=np.complex)\n",
    "%timeit f4(positions, temp_array, qx2, qy2, qz2)\n",
    "temp_array = np.zeros(grid.bins, dtype=np.complex)\n",
    "%timeit f4_jit(positions, temp_array, qx2, qy2, qz2)"
   ]
  },
  {
   "cell_type": "code",
   "execution_count": 166,
   "metadata": {
    "nbpresent": {
     "id": "16256f9a-4a1b-40ca-a6fe-d5eb77f80038"
    }
   },
   "outputs": [],
   "source": [
    "f4_jit_np = jit(nopython=True)(f4)"
   ]
  },
  {
   "cell_type": "code",
   "execution_count": 167,
   "metadata": {
    "nbpresent": {
     "id": "5bc2b165-6726-4ab9-9fff-0d23d487529f"
    }
   },
   "outputs": [
    {
     "name": "stdout",
     "output_type": "stream",
     "text": [
      "337 ms ± 1.45 ms per loop (mean ± std. dev. of 7 runs, 1 loop each)\n"
     ]
    }
   ],
   "source": [
    "temp_array = np.zeros(grid.bins, dtype=np.complex)\n",
    "%timeit f4_jit_np(positions, temp_array, qx2, qy2, qz2)"
   ]
  },
  {
   "cell_type": "code",
   "execution_count": 127,
   "metadata": {
    "collapsed": true
   },
   "outputs": [
    {
     "name": "stdout",
     "output_type": "stream",
     "text": [
      "f1 (array(float64, 2d, A), array(complex128, 3d, C), array(float64, 3d, C), array(float64, 3d, C), array(float64, 3d, C))\n",
      "--------------------------------------------------------------------------------\n",
      "# File: <ipython-input-102-d0c2edfd87c9>\n",
      "# --- LINE 1 --- \n",
      "# label 0\n",
      "\n",
      "def f1(positions, temp_array, qx, qy, qz):\n",
      "\n",
      "    # --- LINE 2 --- \n",
      "    #   positions = arg(0, name=positions)  :: pyobject\n",
      "    #   temp_array = arg(1, name=temp_array)  :: pyobject\n",
      "    #   qx = arg(2, name=qx)  :: pyobject\n",
      "    #   qy = arg(3, name=qy)  :: pyobject\n",
      "    #   qz = arg(4, name=qz)  :: pyobject\n",
      "    #   jump 2\n",
      "    # label 2\n",
      "    #   $52 = const(LiftedLoop, LiftedLoop(<function f1 at 0x7f54287738c8>))  :: XXX Lifted Loop XXX\n",
      "    #   $53 = call $52(positions, qx, qy, qz, temp_array, func=$52, args=[Var(positions, <ipython-input-102-d0c2edfd87c9> (2)), Var(qx, <ipython-input-102-d0c2edfd87c9> (2)), Var(qy, <ipython-input-102-d0c2edfd87c9> (2)), Var(qz, <ipython-input-102-d0c2edfd87c9> (2)), Var(temp_array, <ipython-input-102-d0c2edfd87c9> (2))], kws=(), vararg=None)  :: XXX Lifted Loop XXX\n",
      "    #   del temp_array\n",
      "    #   del qz\n",
      "    #   del qy\n",
      "    #   del qx\n",
      "    #   del positions\n",
      "    #   del $53\n",
      "    #   del $52\n",
      "    #   jump 84\n",
      "\n",
      "    for atom in positions:\n",
      "\n",
      "        # --- LINE 3 --- \n",
      "        # label 84\n",
      "        #   $const84.1 = const(NoneType, None)  :: pyobject\n",
      "        #   $84.2 = cast(value=$const84.1)  :: pyobject\n",
      "        #   del $const84.1\n",
      "        #   return $84.2\n",
      "\n",
      "        temp_array += np.exp(qx*atom[0]*1j) * np.exp(qy*atom[1]*1j) * np.exp(qz*atom[2]*1j)\n",
      "\n",
      "# The function contains lifted loops\n",
      "# Loop at line 2\n",
      "# Has 1 overloads\n",
      "# File: <ipython-input-102-d0c2edfd87c9>\n",
      "# --- LINE 1 --- \n",
      "\n",
      "def f1(positions, temp_array, qx, qy, qz):\n",
      "\n",
      "    # --- LINE 2 --- \n",
      "    # label 1\n",
      "    #   positions = arg(0, name=positions)  :: pyobject\n",
      "    #   qx = arg(1, name=qx)  :: pyobject\n",
      "    #   qy = arg(2, name=qy)  :: pyobject\n",
      "    #   qz = arg(3, name=qz)  :: pyobject\n",
      "    #   temp_array = arg(4, name=temp_array)  :: pyobject\n",
      "    #   jump 2\n",
      "    # label 2\n",
      "    #   $2.2 = getiter(value=positions)  :: pyobject\n",
      "    #   del positions\n",
      "    #   $phi6.1 = $2.2  :: pyobject\n",
      "    #   del $2.2\n",
      "    #   jump 6\n",
      "    # label 6\n",
      "    #   $6.2 = iternext(value=$phi6.1)  :: pyobject\n",
      "    #   $6.3 = pair_first(value=$6.2)  :: pyobject\n",
      "    #   $6.4 = pair_second(value=$6.2)  :: pyobject\n",
      "    #   del $6.2\n",
      "    #   $phi8.1 = $6.3  :: pyobject\n",
      "    #   $phi82.1 = $6.3  :: pyobject\n",
      "    #   del $phi82.1\n",
      "    #   del $6.3\n",
      "    #   $phi82.2 = $phi6.1  :: pyobject\n",
      "    #   del $phi82.2\n",
      "    #   branch $6.4, 8, 82\n",
      "    # label 8\n",
      "    #   del $6.4\n",
      "    #   atom = $phi8.1  :: pyobject\n",
      "    #   del $phi8.1\n",
      "    #   del $8.3\n",
      "    #   del $const8.7\n",
      "    #   del $8.8\n",
      "    #   del $const8.10\n",
      "    #   del $8.9\n",
      "    #   del $8.4\n",
      "    #   del $8.11\n",
      "    #   del $8.13\n",
      "    #   del $const8.17\n",
      "    #   del $8.18\n",
      "    #   del $const8.20\n",
      "    #   del $8.19\n",
      "    #   del $8.21\n",
      "    #   del $8.14\n",
      "    #   del $8.22\n",
      "    #   del $8.12\n",
      "    #   del $8.24\n",
      "    #   del atom\n",
      "    #   del $const8.28\n",
      "    #   del $8.29\n",
      "    #   del $const8.31\n",
      "    #   del $8.30\n",
      "    #   del $8.32\n",
      "    #   del $8.25\n",
      "    #   del $8.33\n",
      "    #   del $8.23\n",
      "    #   del $8.34\n",
      "    #   del $8.35\n",
      "    # label 84\n",
      "    #   $51 = build_tuple(items=[])  :: pyobject\n",
      "    #   return $51\n",
      "\n",
      "    for atom in positions:\n",
      "\n",
      "        # --- LINE 3 --- \n",
      "        #   $8.3 = global(np: <module 'numpy' from '/home/rwp/.conda/envs/javelin/lib/python3.6/site-packages/numpy/__init__.py'>)  :: pyobject\n",
      "        #   $8.4 = getattr(value=$8.3, attr=exp)  :: pyobject\n",
      "        #   $const8.7 = const(int, 0)  :: pyobject\n",
      "        #   $8.8 = getitem(value=atom, index=$const8.7)  :: pyobject\n",
      "        #   $8.9 = qx * $8.8  :: pyobject\n",
      "        #   $const8.10 = const(complex, 1j)  :: pyobject\n",
      "        #   $8.11 = $8.9 * $const8.10  :: pyobject\n",
      "        #   $8.12 = call $8.4($8.11, func=$8.4, args=[Var($8.11, <ipython-input-102-d0c2edfd87c9> (3))], kws=(), vararg=None)  :: pyobject\n",
      "        #   $8.13 = global(np: <module 'numpy' from '/home/rwp/.conda/envs/javelin/lib/python3.6/site-packages/numpy/__init__.py'>)  :: pyobject\n",
      "        #   $8.14 = getattr(value=$8.13, attr=exp)  :: pyobject\n",
      "        #   $const8.17 = const(int, 1)  :: pyobject\n",
      "        #   $8.18 = getitem(value=atom, index=$const8.17)  :: pyobject\n",
      "        #   $8.19 = qy * $8.18  :: pyobject\n",
      "        #   $const8.20 = const(complex, 1j)  :: pyobject\n",
      "        #   $8.21 = $8.19 * $const8.20  :: pyobject\n",
      "        #   $8.22 = call $8.14($8.21, func=$8.14, args=[Var($8.21, <ipython-input-102-d0c2edfd87c9> (3))], kws=(), vararg=None)  :: pyobject\n",
      "        #   $8.23 = $8.12 * $8.22  :: pyobject\n",
      "        #   $8.24 = global(np: <module 'numpy' from '/home/rwp/.conda/envs/javelin/lib/python3.6/site-packages/numpy/__init__.py'>)  :: pyobject\n",
      "        #   $8.25 = getattr(value=$8.24, attr=exp)  :: pyobject\n",
      "        #   $const8.28 = const(int, 2)  :: pyobject\n",
      "        #   $8.29 = getitem(value=atom, index=$const8.28)  :: pyobject\n",
      "        #   $8.30 = qz * $8.29  :: pyobject\n",
      "        #   $const8.31 = const(complex, 1j)  :: pyobject\n",
      "        #   $8.32 = $8.30 * $const8.31  :: pyobject\n",
      "        #   $8.33 = call $8.25($8.32, func=$8.25, args=[Var($8.32, <ipython-input-102-d0c2edfd87c9> (3))], kws=(), vararg=None)  :: pyobject\n",
      "        #   $8.34 = $8.23 * $8.33  :: pyobject\n",
      "        #   $8.35 = inplace_binop(fn=+=, immutable_fn=+, lhs=temp_array, rhs=$8.34, static_lhs=<object object at 0x7f5459aefff0>, static_rhs=<object object at 0x7f5459aefff0>)  :: pyobject\n",
      "        #   temp_array = $8.35  :: pyobject\n",
      "        #   jump 6\n",
      "        # label 82\n",
      "        #   del temp_array\n",
      "        #   del qz\n",
      "        #   del qy\n",
      "        #   del qx\n",
      "        #   del $phi8.1\n",
      "        #   del $phi6.1\n",
      "        #   del $6.4\n",
      "        #   jump 84\n",
      "\n",
      "        temp_array += np.exp(qx*atom[0]*1j) * np.exp(qy*atom[1]*1j) * np.exp(qz*atom[2]*1j)\n",
      "\n",
      "\n",
      "\n",
      "================================================================================\n"
     ]
    }
   ],
   "source": [
    "f1_jit.inspect_types()"
   ]
  },
  {
   "cell_type": "code",
   "execution_count": 128,
   "metadata": {
    "collapsed": true
   },
   "outputs": [
    {
     "name": "stdout",
     "output_type": "stream",
     "text": [
      "f2 (array(float64, 2d, A), array(complex128, 3d, C), array(float64, 3d, C), array(float64, 3d, C), array(float64, 3d, C))\n",
      "--------------------------------------------------------------------------------\n",
      "# File: <ipython-input-109-783fedab7279>\n",
      "# --- LINE 1 --- \n",
      "# label 0\n",
      "\n",
      "def f2(positions, temp_array, qx, qy, qz):\n",
      "\n",
      "    # --- LINE 2 --- \n",
      "    #   positions = arg(0, name=positions)  :: pyobject\n",
      "    #   temp_array = arg(1, name=temp_array)  :: pyobject\n",
      "    #   qx = arg(2, name=qx)  :: pyobject\n",
      "    #   qy = arg(3, name=qy)  :: pyobject\n",
      "    #   qz = arg(4, name=qz)  :: pyobject\n",
      "    #   jump 2\n",
      "    # label 2\n",
      "    #   $44 = const(LiftedLoop, LiftedLoop(<function f2 at 0x7f542838c840>))  :: XXX Lifted Loop XXX\n",
      "    #   $45 = call $44(positions, qx, qy, qz, temp_array, func=$44, args=[Var(positions, <ipython-input-109-783fedab7279> (2)), Var(qx, <ipython-input-109-783fedab7279> (2)), Var(qy, <ipython-input-109-783fedab7279> (2)), Var(qz, <ipython-input-109-783fedab7279> (2)), Var(temp_array, <ipython-input-109-783fedab7279> (2))], kws=(), vararg=None)  :: XXX Lifted Loop XXX\n",
      "    #   del temp_array\n",
      "    #   del qz\n",
      "    #   del qy\n",
      "    #   del qx\n",
      "    #   del positions\n",
      "    #   del $45\n",
      "    #   del $44\n",
      "    #   jump 68\n",
      "\n",
      "    for atom in positions:\n",
      "\n",
      "        # --- LINE 3 --- \n",
      "\n",
      "        dot = qx*atom[0] + qy*atom[1] + qz*atom[2]\n",
      "\n",
      "        # --- LINE 4 --- \n",
      "        # label 68\n",
      "        #   $const68.1 = const(NoneType, None)  :: pyobject\n",
      "        #   $68.2 = cast(value=$const68.1)  :: pyobject\n",
      "        #   del $const68.1\n",
      "        #   return $68.2\n",
      "\n",
      "        temp_array += np.exp(dot*1j)\n",
      "\n",
      "# The function contains lifted loops\n",
      "# Loop at line 2\n",
      "# Has 1 overloads\n",
      "# File: <ipython-input-109-783fedab7279>\n",
      "# --- LINE 1 --- \n",
      "\n",
      "def f2(positions, temp_array, qx, qy, qz):\n",
      "\n",
      "    # --- LINE 2 --- \n",
      "    # label 1\n",
      "    #   positions = arg(0, name=positions)  :: pyobject\n",
      "    #   qx = arg(1, name=qx)  :: pyobject\n",
      "    #   qy = arg(2, name=qy)  :: pyobject\n",
      "    #   qz = arg(3, name=qz)  :: pyobject\n",
      "    #   temp_array = arg(4, name=temp_array)  :: pyobject\n",
      "    #   jump 2\n",
      "    # label 2\n",
      "    #   $2.2 = getiter(value=positions)  :: pyobject\n",
      "    #   del positions\n",
      "    #   $phi6.1 = $2.2  :: pyobject\n",
      "    #   del $2.2\n",
      "    #   jump 6\n",
      "    # label 6\n",
      "    #   $6.2 = iternext(value=$phi6.1)  :: pyobject\n",
      "    #   $6.3 = pair_first(value=$6.2)  :: pyobject\n",
      "    #   $6.4 = pair_second(value=$6.2)  :: pyobject\n",
      "    #   del $6.2\n",
      "    #   $phi8.1 = $6.3  :: pyobject\n",
      "    #   $phi66.1 = $6.3  :: pyobject\n",
      "    #   del $phi66.1\n",
      "    #   del $6.3\n",
      "    #   $phi66.2 = $phi6.1  :: pyobject\n",
      "    #   del $phi66.2\n",
      "    #   branch $6.4, 8, 66\n",
      "    # label 8\n",
      "    #   del $6.4\n",
      "    #   atom = $phi8.1  :: pyobject\n",
      "    #   del $phi8.1\n",
      "    #   del $const8.4\n",
      "    #   del $8.5\n",
      "    #   del $const8.9\n",
      "    #   del $8.10\n",
      "    #   del $8.6\n",
      "    #   del $8.11\n",
      "    #   del atom\n",
      "    #   del $const8.15\n",
      "    #   del $8.16\n",
      "    #   del $8.17\n",
      "    #   del $8.12\n",
      "    #   del $8.18\n",
      "    #   del $8.20\n",
      "    #   del dot\n",
      "    #   del $const8.23\n",
      "    #   del $8.24\n",
      "    #   del $8.21\n",
      "    #   del $8.25\n",
      "    #   del $8.26\n",
      "    # label 68\n",
      "    #   $43 = build_tuple(items=[])  :: pyobject\n",
      "    #   return $43\n",
      "\n",
      "    for atom in positions:\n",
      "\n",
      "        # --- LINE 3 --- \n",
      "        #   $const8.4 = const(int, 0)  :: pyobject\n",
      "        #   $8.5 = getitem(value=atom, index=$const8.4)  :: pyobject\n",
      "        #   $8.6 = qx * $8.5  :: pyobject\n",
      "        #   $const8.9 = const(int, 1)  :: pyobject\n",
      "        #   $8.10 = getitem(value=atom, index=$const8.9)  :: pyobject\n",
      "        #   $8.11 = qy * $8.10  :: pyobject\n",
      "        #   $8.12 = $8.6 + $8.11  :: pyobject\n",
      "        #   $const8.15 = const(int, 2)  :: pyobject\n",
      "        #   $8.16 = getitem(value=atom, index=$const8.15)  :: pyobject\n",
      "        #   $8.17 = qz * $8.16  :: pyobject\n",
      "        #   $8.18 = $8.12 + $8.17  :: pyobject\n",
      "        #   dot = $8.18  :: pyobject\n",
      "\n",
      "        dot = qx*atom[0] + qy*atom[1] + qz*atom[2]\n",
      "\n",
      "        # --- LINE 4 --- \n",
      "        #   $8.20 = global(np: <module 'numpy' from '/home/rwp/.conda/envs/javelin/lib/python3.6/site-packages/numpy/__init__.py'>)  :: pyobject\n",
      "        #   $8.21 = getattr(value=$8.20, attr=exp)  :: pyobject\n",
      "        #   $const8.23 = const(complex, 1j)  :: pyobject\n",
      "        #   $8.24 = dot * $const8.23  :: pyobject\n",
      "        #   $8.25 = call $8.21($8.24, func=$8.21, args=[Var($8.24, <ipython-input-109-783fedab7279> (4))], kws=(), vararg=None)  :: pyobject\n",
      "        #   $8.26 = inplace_binop(fn=+=, immutable_fn=+, lhs=temp_array, rhs=$8.25, static_lhs=<object object at 0x7f5459aefff0>, static_rhs=<object object at 0x7f5459aefff0>)  :: pyobject\n",
      "        #   temp_array = $8.26  :: pyobject\n",
      "        #   jump 6\n",
      "        # label 66\n",
      "        #   del temp_array\n",
      "        #   del qz\n",
      "        #   del qy\n",
      "        #   del qx\n",
      "        #   del $phi8.1\n",
      "        #   del $phi6.1\n",
      "        #   del $6.4\n",
      "        #   jump 68\n",
      "\n",
      "        temp_array += np.exp(dot*1j)\n",
      "\n",
      "\n",
      "\n",
      "================================================================================\n"
     ]
    }
   ],
   "source": [
    "f2_jit.inspect_types()"
   ]
  },
  {
   "cell_type": "code",
   "execution_count": 129,
   "metadata": {
    "collapsed": true
   },
   "outputs": [
    {
     "name": "stdout",
     "output_type": "stream",
     "text": [
      "f3 (array(float64, 2d, A), array(complex128, 3d, C), array(complex128, 3d, C), array(complex128, 3d, C), array(complex128, 3d, C))\n",
      "--------------------------------------------------------------------------------\n",
      "# File: <ipython-input-112-ca0baffb8abb>\n",
      "# --- LINE 1 --- \n",
      "# label 0\n",
      "\n",
      "def f3(positions, temp_array, qx, qy, qz):\n",
      "\n",
      "    # --- LINE 2 --- \n",
      "    #   positions = arg(0, name=positions)  :: pyobject\n",
      "    #   temp_array = arg(1, name=temp_array)  :: pyobject\n",
      "    #   qx = arg(2, name=qx)  :: pyobject\n",
      "    #   qy = arg(3, name=qy)  :: pyobject\n",
      "    #   qz = arg(4, name=qz)  :: pyobject\n",
      "    #   jump 2\n",
      "    # label 2\n",
      "    #   $42 = const(LiftedLoop, LiftedLoop(<function f3 at 0x7f542838cd90>))  :: XXX Lifted Loop XXX\n",
      "    #   $43 = call $42(positions, qx, qy, qz, temp_array, func=$42, args=[Var(positions, <ipython-input-112-ca0baffb8abb> (2)), Var(qx, <ipython-input-112-ca0baffb8abb> (2)), Var(qy, <ipython-input-112-ca0baffb8abb> (2)), Var(qz, <ipython-input-112-ca0baffb8abb> (2)), Var(temp_array, <ipython-input-112-ca0baffb8abb> (2))], kws=(), vararg=None)  :: XXX Lifted Loop XXX\n",
      "    #   del temp_array\n",
      "    #   del qz\n",
      "    #   del qy\n",
      "    #   del qx\n",
      "    #   del positions\n",
      "    #   del $43\n",
      "    #   del $42\n",
      "    #   jump 64\n",
      "\n",
      "    for atom in positions:\n",
      "\n",
      "        # --- LINE 3 --- \n",
      "\n",
      "        dot = qx*atom[0] + qy*atom[1] + qz*atom[2]\n",
      "\n",
      "        # --- LINE 4 --- \n",
      "        # label 64\n",
      "        #   $const64.1 = const(NoneType, None)  :: pyobject\n",
      "        #   $64.2 = cast(value=$const64.1)  :: pyobject\n",
      "        #   del $const64.1\n",
      "        #   return $64.2\n",
      "\n",
      "        temp_array += np.exp(dot)\n",
      "\n",
      "# The function contains lifted loops\n",
      "# Loop at line 2\n",
      "# Has 1 overloads\n",
      "# File: <ipython-input-112-ca0baffb8abb>\n",
      "# --- LINE 1 --- \n",
      "\n",
      "def f3(positions, temp_array, qx, qy, qz):\n",
      "\n",
      "    # --- LINE 2 --- \n",
      "    # label 1\n",
      "    #   positions = arg(0, name=positions)  :: pyobject\n",
      "    #   qx = arg(1, name=qx)  :: pyobject\n",
      "    #   qy = arg(2, name=qy)  :: pyobject\n",
      "    #   qz = arg(3, name=qz)  :: pyobject\n",
      "    #   temp_array = arg(4, name=temp_array)  :: pyobject\n",
      "    #   jump 2\n",
      "    # label 2\n",
      "    #   $2.2 = getiter(value=positions)  :: pyobject\n",
      "    #   del positions\n",
      "    #   $phi6.1 = $2.2  :: pyobject\n",
      "    #   del $2.2\n",
      "    #   jump 6\n",
      "    # label 6\n",
      "    #   $6.2 = iternext(value=$phi6.1)  :: pyobject\n",
      "    #   $6.3 = pair_first(value=$6.2)  :: pyobject\n",
      "    #   $6.4 = pair_second(value=$6.2)  :: pyobject\n",
      "    #   del $6.2\n",
      "    #   $phi8.1 = $6.3  :: pyobject\n",
      "    #   $phi62.1 = $6.3  :: pyobject\n",
      "    #   del $phi62.1\n",
      "    #   del $6.3\n",
      "    #   $phi62.2 = $phi6.1  :: pyobject\n",
      "    #   del $phi62.2\n",
      "    #   branch $6.4, 8, 62\n",
      "    # label 8\n",
      "    #   del $6.4\n",
      "    #   atom = $phi8.1  :: pyobject\n",
      "    #   del $phi8.1\n",
      "    #   del $const8.4\n",
      "    #   del $8.5\n",
      "    #   del $const8.9\n",
      "    #   del $8.10\n",
      "    #   del $8.6\n",
      "    #   del $8.11\n",
      "    #   del atom\n",
      "    #   del $const8.15\n",
      "    #   del $8.16\n",
      "    #   del $8.17\n",
      "    #   del $8.12\n",
      "    #   del $8.18\n",
      "    #   del $8.20\n",
      "    #   del dot\n",
      "    #   del $8.21\n",
      "    #   del $8.23\n",
      "    #   del $8.24\n",
      "    # label 64\n",
      "    #   $41 = build_tuple(items=[])  :: pyobject\n",
      "    #   return $41\n",
      "\n",
      "    for atom in positions:\n",
      "\n",
      "        # --- LINE 3 --- \n",
      "        #   $const8.4 = const(int, 0)  :: pyobject\n",
      "        #   $8.5 = getitem(value=atom, index=$const8.4)  :: pyobject\n",
      "        #   $8.6 = qx * $8.5  :: pyobject\n",
      "        #   $const8.9 = const(int, 1)  :: pyobject\n",
      "        #   $8.10 = getitem(value=atom, index=$const8.9)  :: pyobject\n",
      "        #   $8.11 = qy * $8.10  :: pyobject\n",
      "        #   $8.12 = $8.6 + $8.11  :: pyobject\n",
      "        #   $const8.15 = const(int, 2)  :: pyobject\n",
      "        #   $8.16 = getitem(value=atom, index=$const8.15)  :: pyobject\n",
      "        #   $8.17 = qz * $8.16  :: pyobject\n",
      "        #   $8.18 = $8.12 + $8.17  :: pyobject\n",
      "        #   dot = $8.18  :: pyobject\n",
      "\n",
      "        dot = qx*atom[0] + qy*atom[1] + qz*atom[2]\n",
      "\n",
      "        # --- LINE 4 --- \n",
      "        #   $8.20 = global(np: <module 'numpy' from '/home/rwp/.conda/envs/javelin/lib/python3.6/site-packages/numpy/__init__.py'>)  :: pyobject\n",
      "        #   $8.21 = getattr(value=$8.20, attr=exp)  :: pyobject\n",
      "        #   $8.23 = call $8.21(dot, func=$8.21, args=[Var(dot, <ipython-input-112-ca0baffb8abb> (3))], kws=(), vararg=None)  :: pyobject\n",
      "        #   $8.24 = inplace_binop(fn=+=, immutable_fn=+, lhs=temp_array, rhs=$8.23, static_lhs=<object object at 0x7f5459aefff0>, static_rhs=<object object at 0x7f5459aefff0>)  :: pyobject\n",
      "        #   temp_array = $8.24  :: pyobject\n",
      "        #   jump 6\n",
      "        # label 62\n",
      "        #   del temp_array\n",
      "        #   del qz\n",
      "        #   del qy\n",
      "        #   del qx\n",
      "        #   del $phi8.1\n",
      "        #   del $phi6.1\n",
      "        #   del $6.4\n",
      "        #   jump 64\n",
      "\n",
      "        temp_array += np.exp(dot)\n",
      "\n",
      "\n",
      "\n",
      "================================================================================\n"
     ]
    }
   ],
   "source": [
    "f3_jit.inspect_types()"
   ]
  },
  {
   "cell_type": "code",
   "execution_count": 130,
   "metadata": {
    "collapsed": true
   },
   "outputs": [
    {
     "name": "stdout",
     "output_type": "stream",
     "text": [
      "f4 (array(float64, 2d, A), array(complex128, 3d, C), array(float64, 3d, C), array(float64, 3d, C), array(float64, 3d, C))\n",
      "--------------------------------------------------------------------------------\n",
      "# File: <ipython-input-115-7ea15ab547fa>\n",
      "# --- LINE 1 --- \n",
      "# label 0\n",
      "#   del $const0.3\n",
      "#   del $0.2\n",
      "#   del $0.4\n",
      "#   del $0.6\n",
      "#   del $0.10\n",
      "#   del $0.7\n",
      "#   del $0.8\n",
      "#   del $0.9\n",
      "\n",
      "def f4(positions, temp_array, qx, qy, qz):\n",
      "\n",
      "    # --- LINE 2 --- \n",
      "    #   positions = arg(0, name=positions)  :: array(float64, 2d, A)\n",
      "    #   temp_array = arg(1, name=temp_array)  :: array(complex128, 3d, C)\n",
      "    #   qx = arg(2, name=qx)  :: array(float64, 3d, C)\n",
      "    #   qy = arg(3, name=qy)  :: array(float64, 3d, C)\n",
      "    #   qz = arg(4, name=qz)  :: array(float64, 3d, C)\n",
      "    #   $0.2 = getattr(value=positions, attr=shape)  :: (int64 x 2)\n",
      "    #   $const0.3 = const(int, 0)  :: int64\n",
      "    #   $0.4 = static_getitem(value=$0.2, index=0, index_var=$const0.3)  :: int64\n",
      "    #   N = $0.4  :: int64\n",
      "\n",
      "    N = positions.shape[0]\n",
      "\n",
      "    # --- LINE 3 --- \n",
      "    #   $0.6 = getattr(value=temp_array, attr=shape)  :: (int64 x 3)\n",
      "    #   $0.10 = exhaust_iter(value=$0.6, count=3)  :: (int64 x 3)\n",
      "    #   $0.7 = static_getitem(value=$0.10, index=0, index_var=None)  :: int64\n",
      "    #   $0.8 = static_getitem(value=$0.10, index=1, index_var=None)  :: int64\n",
      "    #   $0.9 = static_getitem(value=$0.10, index=2, index_var=None)  :: int64\n",
      "    #   A = $0.7  :: int64\n",
      "    #   B = $0.8  :: int64\n",
      "    #   C = $0.9  :: int64\n",
      "    #   jump 22\n",
      "    # label 22\n",
      "\n",
      "    A, B, C = temp_array.shape\n",
      "\n",
      "    # --- LINE 4 --- \n",
      "    #   jump 24\n",
      "    # label 24\n",
      "    #   $24.1 = global(range: <class 'range'>)  :: Function(<class 'range'>)\n",
      "    #   $24.3 = call $24.1(N, func=$24.1, args=[Var(N, <ipython-input-115-7ea15ab547fa> (2))], kws=(), vararg=None)  :: (int64,) -> range_state_int64\n",
      "    #   del N\n",
      "    #   del $24.1\n",
      "    #   $24.4 = getiter(value=$24.3)  :: range_iter_int64\n",
      "    #   del $24.3\n",
      "    #   $phi32.1 = $24.4  :: range_iter_int64\n",
      "    #   del $24.4\n",
      "    #   jump 32\n",
      "    # label 32\n",
      "    #   $32.2 = iternext(value=$phi32.1)  :: pair<int64, bool>\n",
      "    #   $32.3 = pair_first(value=$32.2)  :: int64\n",
      "    #   $32.4 = pair_second(value=$32.2)  :: bool\n",
      "    #   del $32.2\n",
      "    #   $phi34.1 = $32.3  :: int64\n",
      "    #   $phi194.1 = $32.3  :: int64\n",
      "    #   del $phi194.1\n",
      "    #   del $32.3\n",
      "    #   $phi194.2 = $phi32.1  :: range_iter_int64\n",
      "    #   del $phi194.2\n",
      "    #   branch $32.4, 34, 194\n",
      "    # label 34\n",
      "    #   del $32.4\n",
      "    #   n = $phi34.1  :: int64\n",
      "    #   del $phi34.1\n",
      "    #   jump 36\n",
      "    # label 36\n",
      "\n",
      "    for n in range(N):\n",
      "\n",
      "        # --- LINE 5 --- \n",
      "        #   jump 38\n",
      "        # label 38\n",
      "        #   $38.1 = global(range: <class 'range'>)  :: Function(<class 'range'>)\n",
      "        #   $38.3 = call $38.1(A, func=$38.1, args=[Var(A, <ipython-input-115-7ea15ab547fa> (3))], kws=(), vararg=None)  :: (int64,) -> range_state_int64\n",
      "        #   del $38.1\n",
      "        #   $38.4 = getiter(value=$38.3)  :: range_iter_int64\n",
      "        #   del $38.3\n",
      "        #   $phi46.1 = $38.4  :: range_iter_int64\n",
      "        #   del $38.4\n",
      "        #   jump 46\n",
      "        # label 46\n",
      "        #   $46.2 = iternext(value=$phi46.1)  :: pair<int64, bool>\n",
      "        #   $46.3 = pair_first(value=$46.2)  :: int64\n",
      "        #   $46.4 = pair_second(value=$46.2)  :: bool\n",
      "        #   del $46.2\n",
      "        #   $phi48.1 = $46.3  :: int64\n",
      "        #   $phi190.1 = $46.3  :: int64\n",
      "        #   del $phi190.1\n",
      "        #   del $46.3\n",
      "        #   $phi190.2 = $phi46.1  :: range_iter_int64\n",
      "        #   del $phi190.2\n",
      "        #   branch $46.4, 48, 190\n",
      "        # label 48\n",
      "        #   del $46.4\n",
      "        #   i = $phi48.1  :: int64\n",
      "        #   del $phi48.1\n",
      "        #   jump 50\n",
      "        # label 50\n",
      "\n",
      "        for i in range(A):\n",
      "\n",
      "            # --- LINE 6 --- \n",
      "            #   jump 52\n",
      "            # label 52\n",
      "            #   $52.1 = global(range: <class 'range'>)  :: Function(<class 'range'>)\n",
      "            #   $52.3 = call $52.1(B, func=$52.1, args=[Var(B, <ipython-input-115-7ea15ab547fa> (3))], kws=(), vararg=None)  :: (int64,) -> range_state_int64\n",
      "            #   del $52.1\n",
      "            #   $52.4 = getiter(value=$52.3)  :: range_iter_int64\n",
      "            #   del $52.3\n",
      "            #   $phi60.1 = $52.4  :: range_iter_int64\n",
      "            #   del $52.4\n",
      "            #   jump 60\n",
      "            # label 60\n",
      "            #   $60.2 = iternext(value=$phi60.1)  :: pair<int64, bool>\n",
      "            #   $60.3 = pair_first(value=$60.2)  :: int64\n",
      "            #   $60.4 = pair_second(value=$60.2)  :: bool\n",
      "            #   del $60.2\n",
      "            #   $phi62.1 = $60.3  :: int64\n",
      "            #   $phi186.1 = $60.3  :: int64\n",
      "            #   del $phi186.1\n",
      "            #   del $60.3\n",
      "            #   $phi186.2 = $phi60.1  :: range_iter_int64\n",
      "            #   del $phi186.2\n",
      "            #   branch $60.4, 62, 186\n",
      "            # label 62\n",
      "            #   del $60.4\n",
      "            #   j = $phi62.1  :: int64\n",
      "            #   del $phi62.1\n",
      "            #   jump 64\n",
      "            # label 64\n",
      "\n",
      "            for j in range(B):\n",
      "\n",
      "                # --- LINE 7 --- \n",
      "                #   jump 66\n",
      "                # label 66\n",
      "                #   $66.1 = global(range: <class 'range'>)  :: Function(<class 'range'>)\n",
      "                #   $66.3 = call $66.1(C, func=$66.1, args=[Var(C, <ipython-input-115-7ea15ab547fa> (3))], kws=(), vararg=None)  :: (int64,) -> range_state_int64\n",
      "                #   del $66.1\n",
      "                #   $66.4 = getiter(value=$66.3)  :: range_iter_int64\n",
      "                #   del $66.3\n",
      "                #   $phi74.1 = $66.4  :: range_iter_int64\n",
      "                #   del $66.4\n",
      "                #   jump 74\n",
      "                # label 74\n",
      "                #   $74.2 = iternext(value=$phi74.1)  :: pair<int64, bool>\n",
      "                #   $74.3 = pair_first(value=$74.2)  :: int64\n",
      "                #   $74.4 = pair_second(value=$74.2)  :: bool\n",
      "                #   del $74.2\n",
      "                #   $phi76.1 = $74.3  :: int64\n",
      "                #   $phi182.1 = $74.3  :: int64\n",
      "                #   del $phi182.1\n",
      "                #   del $74.3\n",
      "                #   $phi182.2 = $phi74.1  :: range_iter_int64\n",
      "                #   del $phi182.2\n",
      "                #   branch $74.4, 76, 182\n",
      "                # label 76\n",
      "                #   del $74.4\n",
      "                #   k = $phi76.1  :: int64\n",
      "                #   del $phi76.1\n",
      "                #   del $76.10\n",
      "                #   del $76.16\n",
      "                #   del $const76.20\n",
      "                #   del $76.21\n",
      "                #   del $76.22\n",
      "                #   del $76.17\n",
      "                #   del $76.28\n",
      "                #   del $const76.32\n",
      "                #   del $76.33\n",
      "                #   del $76.34\n",
      "                #   del $76.29\n",
      "                #   del $76.35\n",
      "                #   del $76.23\n",
      "                #   del k\n",
      "                #   del $76.41\n",
      "                #   del $const76.45\n",
      "                #   del $76.46\n",
      "                #   del $76.47\n",
      "                #   del $76.42\n",
      "                #   del $76.48\n",
      "                #   del $76.36\n",
      "                #   del $76.49\n",
      "                #   del $76.11\n",
      "                #   del $76.9\n",
      "                #   del $76.50\n",
      "                #   del $76.6\n",
      "                #   del $76.51\n",
      "\n",
      "                for k in range(C):\n",
      "\n",
      "                    # --- LINE 8 --- \n",
      "                    #   $76.6 = build_tuple(items=[Var(i, <ipython-input-115-7ea15ab547fa> (5)), Var(j, <ipython-input-115-7ea15ab547fa> (6)), Var(k, <ipython-input-115-7ea15ab547fa> (7))])  :: (int64 x 3)\n",
      "                    #   $76.9 = getitem(value=temp_array, index=$76.6)  :: complex128\n",
      "                    #   $76.10 = global(np: <module 'numpy' from '/home/rwp/.conda/envs/javelin/lib/python3.6/site-packages/numpy/__init__.py'>)  :: Module(<module 'numpy' from '/home/rwp/.conda/envs/javelin/lib/python3.6/site-packages/numpy/__init__.py'>)\n",
      "                    #   $76.11 = getattr(value=$76.10, attr=exp)  :: Function(<ufunc 'exp'>)\n",
      "                    #   $76.16 = build_tuple(items=[Var(i, <ipython-input-115-7ea15ab547fa> (5)), Var(j, <ipython-input-115-7ea15ab547fa> (6)), Var(k, <ipython-input-115-7ea15ab547fa> (7))])  :: (int64 x 3)\n",
      "                    #   $76.17 = getitem(value=qx, index=$76.16)  :: float64\n",
      "                    #   $const76.20 = const(int, 0)  :: int64\n",
      "                    #   $76.21 = build_tuple(items=[Var(n, <ipython-input-115-7ea15ab547fa> (4)), Var($const76.20, <ipython-input-115-7ea15ab547fa> (8))])  :: (int64 x 2)\n",
      "                    #   $76.22 = getitem(value=positions, index=$76.21)  :: float64\n",
      "                    #   $76.23 = $76.17 * $76.22  :: float64\n",
      "                    #   $76.28 = build_tuple(items=[Var(i, <ipython-input-115-7ea15ab547fa> (5)), Var(j, <ipython-input-115-7ea15ab547fa> (6)), Var(k, <ipython-input-115-7ea15ab547fa> (7))])  :: (int64 x 3)\n",
      "                    #   $76.29 = getitem(value=qy, index=$76.28)  :: float64\n",
      "                    #   $const76.32 = const(int, 1)  :: int64\n",
      "                    #   $76.33 = build_tuple(items=[Var(n, <ipython-input-115-7ea15ab547fa> (4)), Var($const76.32, <ipython-input-115-7ea15ab547fa> (8))])  :: (int64 x 2)\n",
      "                    #   $76.34 = getitem(value=positions, index=$76.33)  :: float64\n",
      "                    #   $76.35 = $76.29 * $76.34  :: float64\n",
      "                    #   $76.36 = $76.23 + $76.35  :: float64\n",
      "                    #   $76.41 = build_tuple(items=[Var(i, <ipython-input-115-7ea15ab547fa> (5)), Var(j, <ipython-input-115-7ea15ab547fa> (6)), Var(k, <ipython-input-115-7ea15ab547fa> (7))])  :: (int64 x 3)\n",
      "                    #   $76.42 = getitem(value=qz, index=$76.41)  :: float64\n",
      "                    #   $const76.45 = const(int, 2)  :: int64\n",
      "                    #   $76.46 = build_tuple(items=[Var(n, <ipython-input-115-7ea15ab547fa> (4)), Var($const76.45, <ipython-input-115-7ea15ab547fa> (8))])  :: (int64 x 2)\n",
      "                    #   $76.47 = getitem(value=positions, index=$76.46)  :: float64\n",
      "                    #   $76.48 = $76.42 * $76.47  :: float64\n",
      "                    #   $76.49 = $76.36 + $76.48  :: float64\n",
      "                    #   $76.50 = call $76.11($76.49, func=$76.11, args=[Var($76.49, <ipython-input-115-7ea15ab547fa> (8))], kws=(), vararg=None)  :: (float64,) -> float64\n",
      "                    #   $76.51 = inplace_binop(fn=+=, immutable_fn=+, lhs=$76.9, rhs=$76.50, static_lhs=<object object at 0x7f5459aefff0>, static_rhs=<object object at 0x7f5459aefff0>)  :: complex128\n",
      "                    #   temp_array[$76.6] = $76.51  :: (array(complex128, 3d, C), (int64 x 3), complex128) -> none\n",
      "                    #   jump 74\n",
      "                    # label 182\n",
      "                    #   del j\n",
      "                    #   del $phi76.1\n",
      "                    #   del $phi74.1\n",
      "                    #   del $74.4\n",
      "                    #   jump 184\n",
      "                    # label 184\n",
      "                    #   jump 60\n",
      "                    # label 186\n",
      "                    #   del i\n",
      "                    #   del $phi62.1\n",
      "                    #   del $phi60.1\n",
      "                    #   del $60.4\n",
      "                    #   jump 188\n",
      "                    # label 188\n",
      "                    #   jump 46\n",
      "                    # label 190\n",
      "                    #   del n\n",
      "                    #   del $phi48.1\n",
      "                    #   del $phi46.1\n",
      "                    #   del $46.4\n",
      "                    #   jump 192\n",
      "                    # label 192\n",
      "                    #   jump 32\n",
      "                    # label 194\n",
      "                    #   del temp_array\n",
      "                    #   del qz\n",
      "                    #   del qy\n",
      "                    #   del qx\n",
      "                    #   del positions\n",
      "                    #   del C\n",
      "                    #   del B\n",
      "                    #   del A\n",
      "                    #   del $phi34.1\n",
      "                    #   del $phi32.1\n",
      "                    #   del $32.4\n",
      "                    #   jump 196\n",
      "                    # label 196\n",
      "                    #   $const196.1 = const(NoneType, None)  :: none\n",
      "                    #   $196.2 = cast(value=$const196.1)  :: none\n",
      "                    #   del $const196.1\n",
      "                    #   return $196.2\n",
      "\n",
      "                    temp_array[i,j,k] += np.exp(qx[i,j,k]*positions[n,0] + qy[i,j,k]*positions[n,1] + qz[i,j,k]*positions[n,2])\n",
      "\n",
      "\n",
      "================================================================================\n"
     ]
    }
   ],
   "source": [
    "f4_jit.inspect_types()"
   ]
  },
  {
   "cell_type": "code",
   "execution_count": 131,
   "metadata": {},
   "outputs": [],
   "source": [
    "f1_jit_np = jit(nopython=True,parallel=True)(f1)"
   ]
  },
  {
   "cell_type": "code",
   "execution_count": 132,
   "metadata": {
    "collapsed": true
   },
   "outputs": [
    {
     "ename": "LoweringError",
     "evalue": "Failed at nopython (nopython mode backend)\niterating over 2D array\nFile \"<ipython-input-102-d0c2edfd87c9>\", line 2\n[1] During: lowering \"$6.2 = iternext(value=$2.2)\" at <ipython-input-102-d0c2edfd87c9> (2)",
     "output_type": "error",
     "traceback": [
      "\u001b[0;31m---------------------------------------------------------------------------\u001b[0m",
      "\u001b[0;31mNotImplementedError\u001b[0m                       Traceback (most recent call last)",
      "\u001b[0;32m~/.conda/envs/javelin/lib/python3.6/site-packages/numba/errors.py\u001b[0m in \u001b[0;36mnew_error_context\u001b[0;34m(fmt_, *args, **kwargs)\u001b[0m\n\u001b[1;32m    258\u001b[0m     \u001b[0;32mtry\u001b[0m\u001b[0;34m:\u001b[0m\u001b[0;34m\u001b[0m\u001b[0m\n\u001b[0;32m--> 259\u001b[0;31m         \u001b[0;32myield\u001b[0m\u001b[0;34m\u001b[0m\u001b[0m\n\u001b[0m\u001b[1;32m    260\u001b[0m     \u001b[0;32mexcept\u001b[0m \u001b[0mNumbaError\u001b[0m \u001b[0;32mas\u001b[0m \u001b[0me\u001b[0m\u001b[0;34m:\u001b[0m\u001b[0;34m\u001b[0m\u001b[0m\n",
      "\u001b[0;32m~/.conda/envs/javelin/lib/python3.6/site-packages/numba/lowering.py\u001b[0m in \u001b[0;36mlower_block\u001b[0;34m(self, block)\u001b[0m\n\u001b[1;32m    215\u001b[0m                                    loc=self.loc, errcls_=defaulterrcls):\n\u001b[0;32m--> 216\u001b[0;31m                 \u001b[0mself\u001b[0m\u001b[0;34m.\u001b[0m\u001b[0mlower_inst\u001b[0m\u001b[0;34m(\u001b[0m\u001b[0minst\u001b[0m\u001b[0;34m)\u001b[0m\u001b[0;34m\u001b[0m\u001b[0m\n\u001b[0m\u001b[1;32m    217\u001b[0m \u001b[0;34m\u001b[0m\u001b[0m\n",
      "\u001b[0;32m~/.conda/envs/javelin/lib/python3.6/site-packages/numba/lowering.py\u001b[0m in \u001b[0;36mlower_inst\u001b[0;34m(self, inst)\u001b[0m\n\u001b[1;32m    264\u001b[0m             \u001b[0mty\u001b[0m \u001b[0;34m=\u001b[0m \u001b[0mself\u001b[0m\u001b[0;34m.\u001b[0m\u001b[0mtypeof\u001b[0m\u001b[0;34m(\u001b[0m\u001b[0minst\u001b[0m\u001b[0;34m.\u001b[0m\u001b[0mtarget\u001b[0m\u001b[0;34m.\u001b[0m\u001b[0mname\u001b[0m\u001b[0;34m)\u001b[0m\u001b[0;34m\u001b[0m\u001b[0m\n\u001b[0;32m--> 265\u001b[0;31m             \u001b[0mval\u001b[0m \u001b[0;34m=\u001b[0m \u001b[0mself\u001b[0m\u001b[0;34m.\u001b[0m\u001b[0mlower_assign\u001b[0m\u001b[0;34m(\u001b[0m\u001b[0mty\u001b[0m\u001b[0;34m,\u001b[0m \u001b[0minst\u001b[0m\u001b[0;34m)\u001b[0m\u001b[0;34m\u001b[0m\u001b[0m\n\u001b[0m\u001b[1;32m    266\u001b[0m             \u001b[0mself\u001b[0m\u001b[0;34m.\u001b[0m\u001b[0mstorevar\u001b[0m\u001b[0;34m(\u001b[0m\u001b[0mval\u001b[0m\u001b[0;34m,\u001b[0m \u001b[0minst\u001b[0m\u001b[0;34m.\u001b[0m\u001b[0mtarget\u001b[0m\u001b[0;34m.\u001b[0m\u001b[0mname\u001b[0m\u001b[0;34m)\u001b[0m\u001b[0;34m\u001b[0m\u001b[0m\n",
      "\u001b[0;32m~/.conda/envs/javelin/lib/python3.6/site-packages/numba/lowering.py\u001b[0m in \u001b[0;36mlower_assign\u001b[0;34m(self, ty, inst)\u001b[0m\n\u001b[1;32m    410\u001b[0m         \u001b[0;32melif\u001b[0m \u001b[0misinstance\u001b[0m\u001b[0;34m(\u001b[0m\u001b[0mvalue\u001b[0m\u001b[0;34m,\u001b[0m \u001b[0mir\u001b[0m\u001b[0;34m.\u001b[0m\u001b[0mExpr\u001b[0m\u001b[0;34m)\u001b[0m\u001b[0;34m:\u001b[0m\u001b[0;34m\u001b[0m\u001b[0m\n\u001b[0;32m--> 411\u001b[0;31m             \u001b[0;32mreturn\u001b[0m \u001b[0mself\u001b[0m\u001b[0;34m.\u001b[0m\u001b[0mlower_expr\u001b[0m\u001b[0;34m(\u001b[0m\u001b[0mty\u001b[0m\u001b[0;34m,\u001b[0m \u001b[0mvalue\u001b[0m\u001b[0;34m)\u001b[0m\u001b[0;34m\u001b[0m\u001b[0m\n\u001b[0m\u001b[1;32m    412\u001b[0m \u001b[0;34m\u001b[0m\u001b[0m\n",
      "\u001b[0;32m~/.conda/envs/javelin/lib/python3.6/site-packages/numba/lowering.py\u001b[0m in \u001b[0;36mlower_expr\u001b[0;34m(self, resty, expr)\u001b[0m\n\u001b[1;32m    758\u001b[0m             \u001b[0mcastval\u001b[0m \u001b[0;34m=\u001b[0m \u001b[0mself\u001b[0m\u001b[0;34m.\u001b[0m\u001b[0mcontext\u001b[0m\u001b[0;34m.\u001b[0m\u001b[0mcast\u001b[0m\u001b[0;34m(\u001b[0m\u001b[0mself\u001b[0m\u001b[0;34m.\u001b[0m\u001b[0mbuilder\u001b[0m\u001b[0;34m,\u001b[0m \u001b[0mval\u001b[0m\u001b[0;34m,\u001b[0m \u001b[0mty\u001b[0m\u001b[0;34m,\u001b[0m \u001b[0mfty\u001b[0m\u001b[0;34m)\u001b[0m\u001b[0;34m\u001b[0m\u001b[0m\n\u001b[0;32m--> 759\u001b[0;31m             \u001b[0mres\u001b[0m \u001b[0;34m=\u001b[0m \u001b[0mimpl\u001b[0m\u001b[0;34m(\u001b[0m\u001b[0mself\u001b[0m\u001b[0;34m.\u001b[0m\u001b[0mbuilder\u001b[0m\u001b[0;34m,\u001b[0m \u001b[0;34m(\u001b[0m\u001b[0mcastval\u001b[0m\u001b[0;34m,\u001b[0m\u001b[0;34m)\u001b[0m\u001b[0;34m)\u001b[0m\u001b[0;34m\u001b[0m\u001b[0m\n\u001b[0m\u001b[1;32m    760\u001b[0m             res = self.context.cast(self.builder, res, signature.return_type,\n",
      "\u001b[0;32m~/.conda/envs/javelin/lib/python3.6/site-packages/numba/targets/base.py\u001b[0m in \u001b[0;36m__call__\u001b[0;34m(self, builder, args)\u001b[0m\n\u001b[1;32m   1045\u001b[0m     \u001b[0;32mdef\u001b[0m \u001b[0m__call__\u001b[0m\u001b[0;34m(\u001b[0m\u001b[0mself\u001b[0m\u001b[0;34m,\u001b[0m \u001b[0mbuilder\u001b[0m\u001b[0;34m,\u001b[0m \u001b[0margs\u001b[0m\u001b[0;34m)\u001b[0m\u001b[0;34m:\u001b[0m\u001b[0;34m\u001b[0m\u001b[0m\n\u001b[0;32m-> 1046\u001b[0;31m         \u001b[0;32mreturn\u001b[0m \u001b[0mself\u001b[0m\u001b[0;34m.\u001b[0m\u001b[0m_imp\u001b[0m\u001b[0;34m(\u001b[0m\u001b[0mself\u001b[0m\u001b[0;34m.\u001b[0m\u001b[0m_context\u001b[0m\u001b[0;34m,\u001b[0m \u001b[0mbuilder\u001b[0m\u001b[0;34m,\u001b[0m \u001b[0mself\u001b[0m\u001b[0;34m.\u001b[0m\u001b[0m_sig\u001b[0m\u001b[0;34m,\u001b[0m \u001b[0margs\u001b[0m\u001b[0;34m)\u001b[0m\u001b[0;34m\u001b[0m\u001b[0m\n\u001b[0m\u001b[1;32m   1047\u001b[0m \u001b[0;34m\u001b[0m\u001b[0m\n",
      "\u001b[0;32m~/.conda/envs/javelin/lib/python3.6/site-packages/numba/targets/imputils.py\u001b[0m in \u001b[0;36mwrapper\u001b[0;34m(context, builder, sig, args)\u001b[0m\n\u001b[1;32m    305\u001b[0m         func(context, builder, sig, args,\n\u001b[0;32m--> 306\u001b[0;31m              _IternextResult(context, builder, pairobj))\n\u001b[0m\u001b[1;32m    307\u001b[0m         return impl_ret_borrowed(context, builder,\n",
      "\u001b[0;32m~/.conda/envs/javelin/lib/python3.6/site-packages/numba/targets/arrayobj.py\u001b[0m in \u001b[0;36miternext_array\u001b[0;34m(context, builder, sig, args, result)\u001b[0m\n\u001b[1;32m    285\u001b[0m         \u001b[0;31m# TODO\u001b[0m\u001b[0;34m\u001b[0m\u001b[0;34m\u001b[0m\u001b[0m\n\u001b[0;32m--> 286\u001b[0;31m         \u001b[0;32mraise\u001b[0m \u001b[0mNotImplementedError\u001b[0m\u001b[0;34m(\u001b[0m\u001b[0;34m\"iterating over %dD array\"\u001b[0m \u001b[0;34m%\u001b[0m \u001b[0marrayty\u001b[0m\u001b[0;34m.\u001b[0m\u001b[0mndim\u001b[0m\u001b[0;34m)\u001b[0m\u001b[0;34m\u001b[0m\u001b[0m\n\u001b[0m\u001b[1;32m    287\u001b[0m \u001b[0;34m\u001b[0m\u001b[0m\n",
      "\u001b[0;31mNotImplementedError\u001b[0m: iterating over 2D array",
      "\nDuring handling of the above exception, another exception occurred:\n",
      "\u001b[0;31mLoweringError\u001b[0m                             Traceback (most recent call last)",
      "\u001b[0;32m<ipython-input-132-ef949b5bba74>\u001b[0m in \u001b[0;36m<module>\u001b[0;34m()\u001b[0m\n\u001b[1;32m      1\u001b[0m \u001b[0mtemp_array\u001b[0m \u001b[0;34m=\u001b[0m \u001b[0mnp\u001b[0m\u001b[0;34m.\u001b[0m\u001b[0mzeros\u001b[0m\u001b[0;34m(\u001b[0m\u001b[0mgrid\u001b[0m\u001b[0;34m.\u001b[0m\u001b[0mbins\u001b[0m\u001b[0;34m,\u001b[0m \u001b[0mdtype\u001b[0m\u001b[0;34m=\u001b[0m\u001b[0mnp\u001b[0m\u001b[0;34m.\u001b[0m\u001b[0mcomplex\u001b[0m\u001b[0;34m)\u001b[0m\u001b[0;34m\u001b[0m\u001b[0m\n\u001b[0;32m----> 2\u001b[0;31m \u001b[0mf1_jit_np\u001b[0m\u001b[0;34m(\u001b[0m\u001b[0mpositions\u001b[0m\u001b[0;34m,\u001b[0m \u001b[0mtemp_array\u001b[0m\u001b[0;34m,\u001b[0m \u001b[0mqx1\u001b[0m\u001b[0;34m,\u001b[0m \u001b[0mqy1\u001b[0m\u001b[0;34m,\u001b[0m \u001b[0mqz1\u001b[0m\u001b[0;34m)\u001b[0m\u001b[0;34m\u001b[0m\u001b[0m\n\u001b[0m",
      "\u001b[0;32m~/.conda/envs/javelin/lib/python3.6/site-packages/numba/dispatcher.py\u001b[0m in \u001b[0;36m_compile_for_args\u001b[0;34m(self, *args, **kws)\u001b[0m\n\u001b[1;32m    305\u001b[0m                 \u001b[0margtypes\u001b[0m\u001b[0;34m.\u001b[0m\u001b[0mappend\u001b[0m\u001b[0;34m(\u001b[0m\u001b[0mself\u001b[0m\u001b[0;34m.\u001b[0m\u001b[0mtypeof_pyval\u001b[0m\u001b[0;34m(\u001b[0m\u001b[0ma\u001b[0m\u001b[0;34m)\u001b[0m\u001b[0;34m)\u001b[0m\u001b[0;34m\u001b[0m\u001b[0m\n\u001b[1;32m    306\u001b[0m         \u001b[0;32mtry\u001b[0m\u001b[0;34m:\u001b[0m\u001b[0;34m\u001b[0m\u001b[0m\n\u001b[0;32m--> 307\u001b[0;31m             \u001b[0;32mreturn\u001b[0m \u001b[0mself\u001b[0m\u001b[0;34m.\u001b[0m\u001b[0mcompile\u001b[0m\u001b[0;34m(\u001b[0m\u001b[0mtuple\u001b[0m\u001b[0;34m(\u001b[0m\u001b[0margtypes\u001b[0m\u001b[0;34m)\u001b[0m\u001b[0;34m)\u001b[0m\u001b[0;34m\u001b[0m\u001b[0m\n\u001b[0m\u001b[1;32m    308\u001b[0m         \u001b[0;32mexcept\u001b[0m \u001b[0merrors\u001b[0m\u001b[0;34m.\u001b[0m\u001b[0mTypingError\u001b[0m \u001b[0;32mas\u001b[0m \u001b[0me\u001b[0m\u001b[0;34m:\u001b[0m\u001b[0;34m\u001b[0m\u001b[0m\n\u001b[1;32m    309\u001b[0m             \u001b[0;31m# Intercept typing error that may be due to an argument\u001b[0m\u001b[0;34m\u001b[0m\u001b[0;34m\u001b[0m\u001b[0m\n",
      "\u001b[0;32m~/.conda/envs/javelin/lib/python3.6/site-packages/numba/dispatcher.py\u001b[0m in \u001b[0;36mcompile\u001b[0;34m(self, sig)\u001b[0m\n\u001b[1;32m    577\u001b[0m \u001b[0;34m\u001b[0m\u001b[0m\n\u001b[1;32m    578\u001b[0m                 \u001b[0mself\u001b[0m\u001b[0;34m.\u001b[0m\u001b[0m_cache_misses\u001b[0m\u001b[0;34m[\u001b[0m\u001b[0msig\u001b[0m\u001b[0;34m]\u001b[0m \u001b[0;34m+=\u001b[0m \u001b[0;36m1\u001b[0m\u001b[0;34m\u001b[0m\u001b[0m\n\u001b[0;32m--> 579\u001b[0;31m                 \u001b[0mcres\u001b[0m \u001b[0;34m=\u001b[0m \u001b[0mself\u001b[0m\u001b[0;34m.\u001b[0m\u001b[0m_compiler\u001b[0m\u001b[0;34m.\u001b[0m\u001b[0mcompile\u001b[0m\u001b[0;34m(\u001b[0m\u001b[0margs\u001b[0m\u001b[0;34m,\u001b[0m \u001b[0mreturn_type\u001b[0m\u001b[0;34m)\u001b[0m\u001b[0;34m\u001b[0m\u001b[0m\n\u001b[0m\u001b[1;32m    580\u001b[0m                 \u001b[0mself\u001b[0m\u001b[0;34m.\u001b[0m\u001b[0madd_overload\u001b[0m\u001b[0;34m(\u001b[0m\u001b[0mcres\u001b[0m\u001b[0;34m)\u001b[0m\u001b[0;34m\u001b[0m\u001b[0m\n\u001b[1;32m    581\u001b[0m                 \u001b[0mself\u001b[0m\u001b[0;34m.\u001b[0m\u001b[0m_cache\u001b[0m\u001b[0;34m.\u001b[0m\u001b[0msave_overload\u001b[0m\u001b[0;34m(\u001b[0m\u001b[0msig\u001b[0m\u001b[0;34m,\u001b[0m \u001b[0mcres\u001b[0m\u001b[0;34m)\u001b[0m\u001b[0;34m\u001b[0m\u001b[0m\n",
      "\u001b[0;32m~/.conda/envs/javelin/lib/python3.6/site-packages/numba/dispatcher.py\u001b[0m in \u001b[0;36mcompile\u001b[0;34m(self, args, return_type)\u001b[0m\n\u001b[1;32m     78\u001b[0m                                       \u001b[0mimpl\u001b[0m\u001b[0;34m,\u001b[0m\u001b[0;34m\u001b[0m\u001b[0m\n\u001b[1;32m     79\u001b[0m                                       \u001b[0margs\u001b[0m\u001b[0;34m=\u001b[0m\u001b[0margs\u001b[0m\u001b[0;34m,\u001b[0m \u001b[0mreturn_type\u001b[0m\u001b[0;34m=\u001b[0m\u001b[0mreturn_type\u001b[0m\u001b[0;34m,\u001b[0m\u001b[0;34m\u001b[0m\u001b[0m\n\u001b[0;32m---> 80\u001b[0;31m                                       flags=flags, locals=self.locals)\n\u001b[0m\u001b[1;32m     81\u001b[0m         \u001b[0;31m# Check typing error if object mode is used\u001b[0m\u001b[0;34m\u001b[0m\u001b[0;34m\u001b[0m\u001b[0m\n\u001b[1;32m     82\u001b[0m         \u001b[0;32mif\u001b[0m \u001b[0mcres\u001b[0m\u001b[0;34m.\u001b[0m\u001b[0mtyping_error\u001b[0m \u001b[0;32mis\u001b[0m \u001b[0;32mnot\u001b[0m \u001b[0;32mNone\u001b[0m \u001b[0;32mand\u001b[0m \u001b[0;32mnot\u001b[0m \u001b[0mflags\u001b[0m\u001b[0;34m.\u001b[0m\u001b[0menable_pyobject\u001b[0m\u001b[0;34m:\u001b[0m\u001b[0;34m\u001b[0m\u001b[0m\n",
      "\u001b[0;32m~/.conda/envs/javelin/lib/python3.6/site-packages/numba/compiler.py\u001b[0m in \u001b[0;36mcompile_extra\u001b[0;34m(typingctx, targetctx, func, args, return_type, flags, locals, library)\u001b[0m\n\u001b[1;32m    761\u001b[0m     pipeline = Pipeline(typingctx, targetctx, library,\n\u001b[1;32m    762\u001b[0m                         args, return_type, flags, locals)\n\u001b[0;32m--> 763\u001b[0;31m     \u001b[0;32mreturn\u001b[0m \u001b[0mpipeline\u001b[0m\u001b[0;34m.\u001b[0m\u001b[0mcompile_extra\u001b[0m\u001b[0;34m(\u001b[0m\u001b[0mfunc\u001b[0m\u001b[0;34m)\u001b[0m\u001b[0;34m\u001b[0m\u001b[0m\n\u001b[0m\u001b[1;32m    764\u001b[0m \u001b[0;34m\u001b[0m\u001b[0m\n\u001b[1;32m    765\u001b[0m \u001b[0;34m\u001b[0m\u001b[0m\n",
      "\u001b[0;32m~/.conda/envs/javelin/lib/python3.6/site-packages/numba/compiler.py\u001b[0m in \u001b[0;36mcompile_extra\u001b[0;34m(self, func)\u001b[0m\n\u001b[1;32m    358\u001b[0m         \u001b[0mself\u001b[0m\u001b[0;34m.\u001b[0m\u001b[0mlifted\u001b[0m \u001b[0;34m=\u001b[0m \u001b[0;34m(\u001b[0m\u001b[0;34m)\u001b[0m\u001b[0;34m\u001b[0m\u001b[0m\n\u001b[1;32m    359\u001b[0m         \u001b[0mself\u001b[0m\u001b[0;34m.\u001b[0m\u001b[0mlifted_from\u001b[0m \u001b[0;34m=\u001b[0m \u001b[0;32mNone\u001b[0m\u001b[0;34m\u001b[0m\u001b[0m\n\u001b[0;32m--> 360\u001b[0;31m         \u001b[0;32mreturn\u001b[0m \u001b[0mself\u001b[0m\u001b[0;34m.\u001b[0m\u001b[0m_compile_bytecode\u001b[0m\u001b[0;34m(\u001b[0m\u001b[0;34m)\u001b[0m\u001b[0;34m\u001b[0m\u001b[0m\n\u001b[0m\u001b[1;32m    361\u001b[0m \u001b[0;34m\u001b[0m\u001b[0m\n\u001b[1;32m    362\u001b[0m     \u001b[0;32mdef\u001b[0m \u001b[0mcompile_ir\u001b[0m\u001b[0;34m(\u001b[0m\u001b[0mself\u001b[0m\u001b[0;34m,\u001b[0m \u001b[0mfunc_ir\u001b[0m\u001b[0;34m,\u001b[0m \u001b[0mlifted\u001b[0m\u001b[0;34m=\u001b[0m\u001b[0;34m(\u001b[0m\u001b[0;34m)\u001b[0m\u001b[0;34m,\u001b[0m \u001b[0mlifted_from\u001b[0m\u001b[0;34m=\u001b[0m\u001b[0;32mNone\u001b[0m\u001b[0;34m)\u001b[0m\u001b[0;34m:\u001b[0m\u001b[0;34m\u001b[0m\u001b[0m\n",
      "\u001b[0;32m~/.conda/envs/javelin/lib/python3.6/site-packages/numba/compiler.py\u001b[0m in \u001b[0;36m_compile_bytecode\u001b[0;34m(self)\u001b[0m\n\u001b[1;32m    720\u001b[0m         \"\"\"\n\u001b[1;32m    721\u001b[0m         \u001b[0;32massert\u001b[0m \u001b[0mself\u001b[0m\u001b[0;34m.\u001b[0m\u001b[0mfunc_ir\u001b[0m \u001b[0;32mis\u001b[0m \u001b[0;32mNone\u001b[0m\u001b[0;34m\u001b[0m\u001b[0m\n\u001b[0;32m--> 722\u001b[0;31m         \u001b[0;32mreturn\u001b[0m \u001b[0mself\u001b[0m\u001b[0;34m.\u001b[0m\u001b[0m_compile_core\u001b[0m\u001b[0;34m(\u001b[0m\u001b[0;34m)\u001b[0m\u001b[0;34m\u001b[0m\u001b[0m\n\u001b[0m\u001b[1;32m    723\u001b[0m \u001b[0;34m\u001b[0m\u001b[0m\n\u001b[1;32m    724\u001b[0m     \u001b[0;32mdef\u001b[0m \u001b[0m_compile_ir\u001b[0m\u001b[0;34m(\u001b[0m\u001b[0mself\u001b[0m\u001b[0;34m)\u001b[0m\u001b[0;34m:\u001b[0m\u001b[0;34m\u001b[0m\u001b[0m\n",
      "\u001b[0;32m~/.conda/envs/javelin/lib/python3.6/site-packages/numba/compiler.py\u001b[0m in \u001b[0;36m_compile_core\u001b[0;34m(self)\u001b[0m\n\u001b[1;32m    707\u001b[0m \u001b[0;34m\u001b[0m\u001b[0m\n\u001b[1;32m    708\u001b[0m         \u001b[0mpm\u001b[0m\u001b[0;34m.\u001b[0m\u001b[0mfinalize\u001b[0m\u001b[0;34m(\u001b[0m\u001b[0;34m)\u001b[0m\u001b[0;34m\u001b[0m\u001b[0m\n\u001b[0;32m--> 709\u001b[0;31m         \u001b[0mres\u001b[0m \u001b[0;34m=\u001b[0m \u001b[0mpm\u001b[0m\u001b[0;34m.\u001b[0m\u001b[0mrun\u001b[0m\u001b[0;34m(\u001b[0m\u001b[0mself\u001b[0m\u001b[0;34m.\u001b[0m\u001b[0mstatus\u001b[0m\u001b[0;34m)\u001b[0m\u001b[0;34m\u001b[0m\u001b[0m\n\u001b[0m\u001b[1;32m    710\u001b[0m         \u001b[0;32mif\u001b[0m \u001b[0mres\u001b[0m \u001b[0;32mis\u001b[0m \u001b[0;32mnot\u001b[0m \u001b[0;32mNone\u001b[0m\u001b[0;34m:\u001b[0m\u001b[0;34m\u001b[0m\u001b[0m\n\u001b[1;32m    711\u001b[0m             \u001b[0;31m# Early pipeline completion\u001b[0m\u001b[0;34m\u001b[0m\u001b[0;34m\u001b[0m\u001b[0m\n",
      "\u001b[0;32m~/.conda/envs/javelin/lib/python3.6/site-packages/numba/compiler.py\u001b[0m in \u001b[0;36mrun\u001b[0;34m(self, status)\u001b[0m\n\u001b[1;32m    244\u001b[0m                     \u001b[0;31m# No more fallback pipelines?\u001b[0m\u001b[0;34m\u001b[0m\u001b[0;34m\u001b[0m\u001b[0m\n\u001b[1;32m    245\u001b[0m                     \u001b[0;32mif\u001b[0m \u001b[0mis_final_pipeline\u001b[0m\u001b[0;34m:\u001b[0m\u001b[0;34m\u001b[0m\u001b[0m\n\u001b[0;32m--> 246\u001b[0;31m                         \u001b[0;32mraise\u001b[0m \u001b[0mpatched_exception\u001b[0m\u001b[0;34m\u001b[0m\u001b[0m\n\u001b[0m\u001b[1;32m    247\u001b[0m                     \u001b[0;31m# Go to next fallback pipeline\u001b[0m\u001b[0;34m\u001b[0m\u001b[0;34m\u001b[0m\u001b[0m\n\u001b[1;32m    248\u001b[0m                     \u001b[0;32melse\u001b[0m\u001b[0;34m:\u001b[0m\u001b[0;34m\u001b[0m\u001b[0m\n",
      "\u001b[0;32m~/.conda/envs/javelin/lib/python3.6/site-packages/numba/compiler.py\u001b[0m in \u001b[0;36mrun\u001b[0;34m(self, status)\u001b[0m\n\u001b[1;32m    236\u001b[0m                 \u001b[0;32mtry\u001b[0m\u001b[0;34m:\u001b[0m\u001b[0;34m\u001b[0m\u001b[0m\n\u001b[1;32m    237\u001b[0m                     \u001b[0mevent\u001b[0m\u001b[0;34m(\u001b[0m\u001b[0mstage_name\u001b[0m\u001b[0;34m)\u001b[0m\u001b[0;34m\u001b[0m\u001b[0m\n\u001b[0;32m--> 238\u001b[0;31m                     \u001b[0mstage\u001b[0m\u001b[0;34m(\u001b[0m\u001b[0;34m)\u001b[0m\u001b[0;34m\u001b[0m\u001b[0m\n\u001b[0m\u001b[1;32m    239\u001b[0m                 \u001b[0;32mexcept\u001b[0m \u001b[0m_EarlyPipelineCompletion\u001b[0m \u001b[0;32mas\u001b[0m \u001b[0me\u001b[0m\u001b[0;34m:\u001b[0m\u001b[0;34m\u001b[0m\u001b[0m\n\u001b[1;32m    240\u001b[0m                     \u001b[0;32mreturn\u001b[0m \u001b[0me\u001b[0m\u001b[0;34m.\u001b[0m\u001b[0mresult\u001b[0m\u001b[0;34m\u001b[0m\u001b[0m\n",
      "\u001b[0;32m~/.conda/envs/javelin/lib/python3.6/site-packages/numba/compiler.py\u001b[0m in \u001b[0;36mstage_nopython_backend\u001b[0;34m(self)\u001b[0m\n\u001b[1;32m    642\u001b[0m         \"\"\"\n\u001b[1;32m    643\u001b[0m         \u001b[0mlowerfn\u001b[0m \u001b[0;34m=\u001b[0m \u001b[0mself\u001b[0m\u001b[0;34m.\u001b[0m\u001b[0mbackend_nopython_mode\u001b[0m\u001b[0;34m\u001b[0m\u001b[0m\n\u001b[0;32m--> 644\u001b[0;31m         \u001b[0mself\u001b[0m\u001b[0;34m.\u001b[0m\u001b[0m_backend\u001b[0m\u001b[0;34m(\u001b[0m\u001b[0mlowerfn\u001b[0m\u001b[0;34m,\u001b[0m \u001b[0mobjectmode\u001b[0m\u001b[0;34m=\u001b[0m\u001b[0;32mFalse\u001b[0m\u001b[0;34m)\u001b[0m\u001b[0;34m\u001b[0m\u001b[0m\n\u001b[0m\u001b[1;32m    645\u001b[0m \u001b[0;34m\u001b[0m\u001b[0m\n\u001b[1;32m    646\u001b[0m     \u001b[0;32mdef\u001b[0m \u001b[0mstage_compile_interp_mode\u001b[0m\u001b[0;34m(\u001b[0m\u001b[0mself\u001b[0m\u001b[0;34m)\u001b[0m\u001b[0;34m:\u001b[0m\u001b[0;34m\u001b[0m\u001b[0m\n",
      "\u001b[0;32m~/.conda/envs/javelin/lib/python3.6/site-packages/numba/compiler.py\u001b[0m in \u001b[0;36m_backend\u001b[0;34m(self, lowerfn, objectmode)\u001b[0m\n\u001b[1;32m    597\u001b[0m             \u001b[0mself\u001b[0m\u001b[0;34m.\u001b[0m\u001b[0mlibrary\u001b[0m\u001b[0;34m.\u001b[0m\u001b[0menable_object_caching\u001b[0m\u001b[0;34m(\u001b[0m\u001b[0;34m)\u001b[0m\u001b[0;34m\u001b[0m\u001b[0m\n\u001b[1;32m    598\u001b[0m \u001b[0;34m\u001b[0m\u001b[0m\n\u001b[0;32m--> 599\u001b[0;31m         \u001b[0mlowered\u001b[0m \u001b[0;34m=\u001b[0m \u001b[0mlowerfn\u001b[0m\u001b[0;34m(\u001b[0m\u001b[0;34m)\u001b[0m\u001b[0;34m\u001b[0m\u001b[0m\n\u001b[0m\u001b[1;32m    600\u001b[0m         \u001b[0msignature\u001b[0m \u001b[0;34m=\u001b[0m \u001b[0mtyping\u001b[0m\u001b[0;34m.\u001b[0m\u001b[0msignature\u001b[0m\u001b[0;34m(\u001b[0m\u001b[0mself\u001b[0m\u001b[0;34m.\u001b[0m\u001b[0mreturn_type\u001b[0m\u001b[0;34m,\u001b[0m \u001b[0;34m*\u001b[0m\u001b[0mself\u001b[0m\u001b[0;34m.\u001b[0m\u001b[0margs\u001b[0m\u001b[0;34m)\u001b[0m\u001b[0;34m\u001b[0m\u001b[0m\n\u001b[1;32m    601\u001b[0m         self.cr = compile_result(typing_context=self.typingctx,\n",
      "\u001b[0;32m~/.conda/envs/javelin/lib/python3.6/site-packages/numba/compiler.py\u001b[0m in \u001b[0;36mbackend_nopython_mode\u001b[0;34m(self)\u001b[0m\n\u001b[1;32m    584\u001b[0m                 \u001b[0mself\u001b[0m\u001b[0;34m.\u001b[0m\u001b[0mreturn_type\u001b[0m\u001b[0;34m,\u001b[0m\u001b[0;34m\u001b[0m\u001b[0m\n\u001b[1;32m    585\u001b[0m                 \u001b[0mself\u001b[0m\u001b[0;34m.\u001b[0m\u001b[0mcalltypes\u001b[0m\u001b[0;34m,\u001b[0m\u001b[0;34m\u001b[0m\u001b[0m\n\u001b[0;32m--> 586\u001b[0;31m                 self.flags)\n\u001b[0m\u001b[1;32m    587\u001b[0m \u001b[0;34m\u001b[0m\u001b[0m\n\u001b[1;32m    588\u001b[0m     \u001b[0;32mdef\u001b[0m \u001b[0m_backend\u001b[0m\u001b[0;34m(\u001b[0m\u001b[0mself\u001b[0m\u001b[0;34m,\u001b[0m \u001b[0mlowerfn\u001b[0m\u001b[0;34m,\u001b[0m \u001b[0mobjectmode\u001b[0m\u001b[0;34m)\u001b[0m\u001b[0;34m:\u001b[0m\u001b[0;34m\u001b[0m\u001b[0m\n",
      "\u001b[0;32m~/.conda/envs/javelin/lib/python3.6/site-packages/numba/compiler.py\u001b[0m in \u001b[0;36mnative_lowering_stage\u001b[0;34m(targetctx, library, interp, typemap, restype, calltypes, flags)\u001b[0m\n\u001b[1;32m    880\u001b[0m \u001b[0;34m\u001b[0m\u001b[0m\n\u001b[1;32m    881\u001b[0m     \u001b[0mlower\u001b[0m \u001b[0;34m=\u001b[0m \u001b[0mlowering\u001b[0m\u001b[0;34m.\u001b[0m\u001b[0mLower\u001b[0m\u001b[0;34m(\u001b[0m\u001b[0mtargetctx\u001b[0m\u001b[0;34m,\u001b[0m \u001b[0mlibrary\u001b[0m\u001b[0;34m,\u001b[0m \u001b[0mfndesc\u001b[0m\u001b[0;34m,\u001b[0m \u001b[0minterp\u001b[0m\u001b[0;34m)\u001b[0m\u001b[0;34m\u001b[0m\u001b[0m\n\u001b[0;32m--> 882\u001b[0;31m     \u001b[0mlower\u001b[0m\u001b[0;34m.\u001b[0m\u001b[0mlower\u001b[0m\u001b[0;34m(\u001b[0m\u001b[0;34m)\u001b[0m\u001b[0;34m\u001b[0m\u001b[0m\n\u001b[0m\u001b[1;32m    883\u001b[0m     \u001b[0;32mif\u001b[0m \u001b[0;32mnot\u001b[0m \u001b[0mflags\u001b[0m\u001b[0;34m.\u001b[0m\u001b[0mno_cpython_wrapper\u001b[0m\u001b[0;34m:\u001b[0m\u001b[0;34m\u001b[0m\u001b[0m\n\u001b[1;32m    884\u001b[0m         \u001b[0mlower\u001b[0m\u001b[0;34m.\u001b[0m\u001b[0mcreate_cpython_wrapper\u001b[0m\u001b[0;34m(\u001b[0m\u001b[0mflags\u001b[0m\u001b[0;34m.\u001b[0m\u001b[0mrelease_gil\u001b[0m\u001b[0;34m)\u001b[0m\u001b[0;34m\u001b[0m\u001b[0m\n",
      "\u001b[0;32m~/.conda/envs/javelin/lib/python3.6/site-packages/numba/lowering.py\u001b[0m in \u001b[0;36mlower\u001b[0;34m(self)\u001b[0m\n\u001b[1;32m    133\u001b[0m         \u001b[0;32mif\u001b[0m \u001b[0mself\u001b[0m\u001b[0;34m.\u001b[0m\u001b[0mgenerator_info\u001b[0m \u001b[0;32mis\u001b[0m \u001b[0;32mNone\u001b[0m\u001b[0;34m:\u001b[0m\u001b[0;34m\u001b[0m\u001b[0m\n\u001b[1;32m    134\u001b[0m             \u001b[0mself\u001b[0m\u001b[0;34m.\u001b[0m\u001b[0mgenlower\u001b[0m \u001b[0;34m=\u001b[0m \u001b[0;32mNone\u001b[0m\u001b[0;34m\u001b[0m\u001b[0m\n\u001b[0;32m--> 135\u001b[0;31m             \u001b[0mself\u001b[0m\u001b[0;34m.\u001b[0m\u001b[0mlower_normal_function\u001b[0m\u001b[0;34m(\u001b[0m\u001b[0mself\u001b[0m\u001b[0;34m.\u001b[0m\u001b[0mfndesc\u001b[0m\u001b[0;34m)\u001b[0m\u001b[0;34m\u001b[0m\u001b[0m\n\u001b[0m\u001b[1;32m    136\u001b[0m         \u001b[0;32melse\u001b[0m\u001b[0;34m:\u001b[0m\u001b[0;34m\u001b[0m\u001b[0m\n\u001b[1;32m    137\u001b[0m             \u001b[0mself\u001b[0m\u001b[0;34m.\u001b[0m\u001b[0mgenlower\u001b[0m \u001b[0;34m=\u001b[0m \u001b[0mself\u001b[0m\u001b[0;34m.\u001b[0m\u001b[0mGeneratorLower\u001b[0m\u001b[0;34m(\u001b[0m\u001b[0mself\u001b[0m\u001b[0;34m)\u001b[0m\u001b[0;34m\u001b[0m\u001b[0m\n",
      "\u001b[0;32m~/.conda/envs/javelin/lib/python3.6/site-packages/numba/lowering.py\u001b[0m in \u001b[0;36mlower_normal_function\u001b[0;34m(self, fndesc)\u001b[0m\n\u001b[1;32m    174\u001b[0m         \u001b[0;31m# Init argument values\u001b[0m\u001b[0;34m\u001b[0m\u001b[0;34m\u001b[0m\u001b[0m\n\u001b[1;32m    175\u001b[0m         \u001b[0mself\u001b[0m\u001b[0;34m.\u001b[0m\u001b[0mextract_function_arguments\u001b[0m\u001b[0;34m(\u001b[0m\u001b[0;34m)\u001b[0m\u001b[0;34m\u001b[0m\u001b[0m\n\u001b[0;32m--> 176\u001b[0;31m         \u001b[0mentry_block_tail\u001b[0m \u001b[0;34m=\u001b[0m \u001b[0mself\u001b[0m\u001b[0;34m.\u001b[0m\u001b[0mlower_function_body\u001b[0m\u001b[0;34m(\u001b[0m\u001b[0;34m)\u001b[0m\u001b[0;34m\u001b[0m\u001b[0m\n\u001b[0m\u001b[1;32m    177\u001b[0m \u001b[0;34m\u001b[0m\u001b[0m\n\u001b[1;32m    178\u001b[0m         \u001b[0;31m# Close tail of entry block\u001b[0m\u001b[0;34m\u001b[0m\u001b[0;34m\u001b[0m\u001b[0m\n",
      "\u001b[0;32m~/.conda/envs/javelin/lib/python3.6/site-packages/numba/lowering.py\u001b[0m in \u001b[0;36mlower_function_body\u001b[0;34m(self)\u001b[0m\n\u001b[1;32m    199\u001b[0m             \u001b[0mbb\u001b[0m \u001b[0;34m=\u001b[0m \u001b[0mself\u001b[0m\u001b[0;34m.\u001b[0m\u001b[0mblkmap\u001b[0m\u001b[0;34m[\u001b[0m\u001b[0moffset\u001b[0m\u001b[0;34m]\u001b[0m\u001b[0;34m\u001b[0m\u001b[0m\n\u001b[1;32m    200\u001b[0m             \u001b[0mself\u001b[0m\u001b[0;34m.\u001b[0m\u001b[0mbuilder\u001b[0m\u001b[0;34m.\u001b[0m\u001b[0mposition_at_end\u001b[0m\u001b[0;34m(\u001b[0m\u001b[0mbb\u001b[0m\u001b[0;34m)\u001b[0m\u001b[0;34m\u001b[0m\u001b[0m\n\u001b[0;32m--> 201\u001b[0;31m             \u001b[0mself\u001b[0m\u001b[0;34m.\u001b[0m\u001b[0mlower_block\u001b[0m\u001b[0;34m(\u001b[0m\u001b[0mblock\u001b[0m\u001b[0;34m)\u001b[0m\u001b[0;34m\u001b[0m\u001b[0m\n\u001b[0m\u001b[1;32m    202\u001b[0m \u001b[0;34m\u001b[0m\u001b[0m\n\u001b[1;32m    203\u001b[0m         \u001b[0mself\u001b[0m\u001b[0;34m.\u001b[0m\u001b[0mpost_lower\u001b[0m\u001b[0;34m(\u001b[0m\u001b[0;34m)\u001b[0m\u001b[0;34m\u001b[0m\u001b[0m\n",
      "\u001b[0;32m~/.conda/envs/javelin/lib/python3.6/site-packages/numba/lowering.py\u001b[0m in \u001b[0;36mlower_block\u001b[0;34m(self, block)\u001b[0m\n\u001b[1;32m    214\u001b[0m             with new_error_context('lowering \"{inst}\" at {loc}', inst=inst,\n\u001b[1;32m    215\u001b[0m                                    loc=self.loc, errcls_=defaulterrcls):\n\u001b[0;32m--> 216\u001b[0;31m                 \u001b[0mself\u001b[0m\u001b[0;34m.\u001b[0m\u001b[0mlower_inst\u001b[0m\u001b[0;34m(\u001b[0m\u001b[0minst\u001b[0m\u001b[0;34m)\u001b[0m\u001b[0;34m\u001b[0m\u001b[0m\n\u001b[0m\u001b[1;32m    217\u001b[0m \u001b[0;34m\u001b[0m\u001b[0m\n\u001b[1;32m    218\u001b[0m     \u001b[0;32mdef\u001b[0m \u001b[0mcreate_cpython_wrapper\u001b[0m\u001b[0;34m(\u001b[0m\u001b[0mself\u001b[0m\u001b[0;34m,\u001b[0m \u001b[0mrelease_gil\u001b[0m\u001b[0;34m=\u001b[0m\u001b[0;32mFalse\u001b[0m\u001b[0;34m)\u001b[0m\u001b[0;34m:\u001b[0m\u001b[0;34m\u001b[0m\u001b[0m\n",
      "\u001b[0;32m~/.conda/envs/javelin/lib/python3.6/contextlib.py\u001b[0m in \u001b[0;36m__exit__\u001b[0;34m(self, type, value, traceback)\u001b[0m\n\u001b[1;32m     97\u001b[0m                 \u001b[0mvalue\u001b[0m \u001b[0;34m=\u001b[0m \u001b[0mtype\u001b[0m\u001b[0;34m(\u001b[0m\u001b[0;34m)\u001b[0m\u001b[0;34m\u001b[0m\u001b[0m\n\u001b[1;32m     98\u001b[0m             \u001b[0;32mtry\u001b[0m\u001b[0;34m:\u001b[0m\u001b[0;34m\u001b[0m\u001b[0m\n\u001b[0;32m---> 99\u001b[0;31m                 \u001b[0mself\u001b[0m\u001b[0;34m.\u001b[0m\u001b[0mgen\u001b[0m\u001b[0;34m.\u001b[0m\u001b[0mthrow\u001b[0m\u001b[0;34m(\u001b[0m\u001b[0mtype\u001b[0m\u001b[0;34m,\u001b[0m \u001b[0mvalue\u001b[0m\u001b[0;34m,\u001b[0m \u001b[0mtraceback\u001b[0m\u001b[0;34m)\u001b[0m\u001b[0;34m\u001b[0m\u001b[0m\n\u001b[0m\u001b[1;32m    100\u001b[0m             \u001b[0;32mexcept\u001b[0m \u001b[0mStopIteration\u001b[0m \u001b[0;32mas\u001b[0m \u001b[0mexc\u001b[0m\u001b[0;34m:\u001b[0m\u001b[0;34m\u001b[0m\u001b[0m\n\u001b[1;32m    101\u001b[0m                 \u001b[0;31m# Suppress StopIteration *unless* it's the same exception that\u001b[0m\u001b[0;34m\u001b[0m\u001b[0;34m\u001b[0m\u001b[0m\n",
      "\u001b[0;32m~/.conda/envs/javelin/lib/python3.6/site-packages/numba/errors.py\u001b[0m in \u001b[0;36mnew_error_context\u001b[0;34m(fmt_, *args, **kwargs)\u001b[0m\n\u001b[1;32m    263\u001b[0m     \u001b[0;32mexcept\u001b[0m \u001b[0mException\u001b[0m \u001b[0;32mas\u001b[0m \u001b[0me\u001b[0m\u001b[0;34m:\u001b[0m\u001b[0;34m\u001b[0m\u001b[0m\n\u001b[1;32m    264\u001b[0m         \u001b[0mnewerr\u001b[0m \u001b[0;34m=\u001b[0m \u001b[0merrcls\u001b[0m\u001b[0;34m(\u001b[0m\u001b[0me\u001b[0m\u001b[0;34m)\u001b[0m\u001b[0;34m.\u001b[0m\u001b[0madd_context\u001b[0m\u001b[0;34m(\u001b[0m\u001b[0m_format_msg\u001b[0m\u001b[0;34m(\u001b[0m\u001b[0mfmt_\u001b[0m\u001b[0;34m,\u001b[0m \u001b[0margs\u001b[0m\u001b[0;34m,\u001b[0m \u001b[0mkwargs\u001b[0m\u001b[0;34m)\u001b[0m\u001b[0;34m)\u001b[0m\u001b[0;34m\u001b[0m\u001b[0m\n\u001b[0;32m--> 265\u001b[0;31m         \u001b[0msix\u001b[0m\u001b[0;34m.\u001b[0m\u001b[0mreraise\u001b[0m\u001b[0;34m(\u001b[0m\u001b[0mtype\u001b[0m\u001b[0;34m(\u001b[0m\u001b[0mnewerr\u001b[0m\u001b[0;34m)\u001b[0m\u001b[0;34m,\u001b[0m \u001b[0mnewerr\u001b[0m\u001b[0;34m,\u001b[0m \u001b[0msys\u001b[0m\u001b[0;34m.\u001b[0m\u001b[0mexc_info\u001b[0m\u001b[0;34m(\u001b[0m\u001b[0;34m)\u001b[0m\u001b[0;34m[\u001b[0m\u001b[0;36m2\u001b[0m\u001b[0;34m]\u001b[0m\u001b[0;34m)\u001b[0m\u001b[0;34m\u001b[0m\u001b[0m\n\u001b[0m\u001b[1;32m    266\u001b[0m \u001b[0;34m\u001b[0m\u001b[0m\n\u001b[1;32m    267\u001b[0m \u001b[0;34m\u001b[0m\u001b[0m\n",
      "\u001b[0;32m~/.conda/envs/javelin/lib/python3.6/site-packages/numba/six.py\u001b[0m in \u001b[0;36mreraise\u001b[0;34m(tp, value, tb)\u001b[0m\n\u001b[1;32m    656\u001b[0m             \u001b[0mvalue\u001b[0m \u001b[0;34m=\u001b[0m \u001b[0mtp\u001b[0m\u001b[0;34m(\u001b[0m\u001b[0;34m)\u001b[0m\u001b[0;34m\u001b[0m\u001b[0m\n\u001b[1;32m    657\u001b[0m         \u001b[0;32mif\u001b[0m \u001b[0mvalue\u001b[0m\u001b[0;34m.\u001b[0m\u001b[0m__traceback__\u001b[0m \u001b[0;32mis\u001b[0m \u001b[0;32mnot\u001b[0m \u001b[0mtb\u001b[0m\u001b[0;34m:\u001b[0m\u001b[0;34m\u001b[0m\u001b[0m\n\u001b[0;32m--> 658\u001b[0;31m             \u001b[0;32mraise\u001b[0m \u001b[0mvalue\u001b[0m\u001b[0;34m.\u001b[0m\u001b[0mwith_traceback\u001b[0m\u001b[0;34m(\u001b[0m\u001b[0mtb\u001b[0m\u001b[0;34m)\u001b[0m\u001b[0;34m\u001b[0m\u001b[0m\n\u001b[0m\u001b[1;32m    659\u001b[0m         \u001b[0;32mraise\u001b[0m \u001b[0mvalue\u001b[0m\u001b[0;34m\u001b[0m\u001b[0m\n\u001b[1;32m    660\u001b[0m \u001b[0;34m\u001b[0m\u001b[0m\n",
      "\u001b[0;32m~/.conda/envs/javelin/lib/python3.6/site-packages/numba/errors.py\u001b[0m in \u001b[0;36mnew_error_context\u001b[0;34m(fmt_, *args, **kwargs)\u001b[0m\n\u001b[1;32m    257\u001b[0m \u001b[0;34m\u001b[0m\u001b[0m\n\u001b[1;32m    258\u001b[0m     \u001b[0;32mtry\u001b[0m\u001b[0;34m:\u001b[0m\u001b[0;34m\u001b[0m\u001b[0m\n\u001b[0;32m--> 259\u001b[0;31m         \u001b[0;32myield\u001b[0m\u001b[0;34m\u001b[0m\u001b[0m\n\u001b[0m\u001b[1;32m    260\u001b[0m     \u001b[0;32mexcept\u001b[0m \u001b[0mNumbaError\u001b[0m \u001b[0;32mas\u001b[0m \u001b[0me\u001b[0m\u001b[0;34m:\u001b[0m\u001b[0;34m\u001b[0m\u001b[0m\n\u001b[1;32m    261\u001b[0m         \u001b[0me\u001b[0m\u001b[0;34m.\u001b[0m\u001b[0madd_context\u001b[0m\u001b[0;34m(\u001b[0m\u001b[0m_format_msg\u001b[0m\u001b[0;34m(\u001b[0m\u001b[0mfmt_\u001b[0m\u001b[0;34m,\u001b[0m \u001b[0margs\u001b[0m\u001b[0;34m,\u001b[0m \u001b[0mkwargs\u001b[0m\u001b[0;34m)\u001b[0m\u001b[0;34m)\u001b[0m\u001b[0;34m\u001b[0m\u001b[0m\n",
      "\u001b[0;32m~/.conda/envs/javelin/lib/python3.6/site-packages/numba/lowering.py\u001b[0m in \u001b[0;36mlower_block\u001b[0;34m(self, block)\u001b[0m\n\u001b[1;32m    214\u001b[0m             with new_error_context('lowering \"{inst}\" at {loc}', inst=inst,\n\u001b[1;32m    215\u001b[0m                                    loc=self.loc, errcls_=defaulterrcls):\n\u001b[0;32m--> 216\u001b[0;31m                 \u001b[0mself\u001b[0m\u001b[0;34m.\u001b[0m\u001b[0mlower_inst\u001b[0m\u001b[0;34m(\u001b[0m\u001b[0minst\u001b[0m\u001b[0;34m)\u001b[0m\u001b[0;34m\u001b[0m\u001b[0m\n\u001b[0m\u001b[1;32m    217\u001b[0m \u001b[0;34m\u001b[0m\u001b[0m\n\u001b[1;32m    218\u001b[0m     \u001b[0;32mdef\u001b[0m \u001b[0mcreate_cpython_wrapper\u001b[0m\u001b[0;34m(\u001b[0m\u001b[0mself\u001b[0m\u001b[0;34m,\u001b[0m \u001b[0mrelease_gil\u001b[0m\u001b[0;34m=\u001b[0m\u001b[0;32mFalse\u001b[0m\u001b[0;34m)\u001b[0m\u001b[0;34m:\u001b[0m\u001b[0;34m\u001b[0m\u001b[0m\n",
      "\u001b[0;32m~/.conda/envs/javelin/lib/python3.6/site-packages/numba/lowering.py\u001b[0m in \u001b[0;36mlower_inst\u001b[0;34m(self, inst)\u001b[0m\n\u001b[1;32m    263\u001b[0m         \u001b[0;32mif\u001b[0m \u001b[0misinstance\u001b[0m\u001b[0;34m(\u001b[0m\u001b[0minst\u001b[0m\u001b[0;34m,\u001b[0m \u001b[0mir\u001b[0m\u001b[0;34m.\u001b[0m\u001b[0mAssign\u001b[0m\u001b[0;34m)\u001b[0m\u001b[0;34m:\u001b[0m\u001b[0;34m\u001b[0m\u001b[0m\n\u001b[1;32m    264\u001b[0m             \u001b[0mty\u001b[0m \u001b[0;34m=\u001b[0m \u001b[0mself\u001b[0m\u001b[0;34m.\u001b[0m\u001b[0mtypeof\u001b[0m\u001b[0;34m(\u001b[0m\u001b[0minst\u001b[0m\u001b[0;34m.\u001b[0m\u001b[0mtarget\u001b[0m\u001b[0;34m.\u001b[0m\u001b[0mname\u001b[0m\u001b[0;34m)\u001b[0m\u001b[0;34m\u001b[0m\u001b[0m\n\u001b[0;32m--> 265\u001b[0;31m             \u001b[0mval\u001b[0m \u001b[0;34m=\u001b[0m \u001b[0mself\u001b[0m\u001b[0;34m.\u001b[0m\u001b[0mlower_assign\u001b[0m\u001b[0;34m(\u001b[0m\u001b[0mty\u001b[0m\u001b[0;34m,\u001b[0m \u001b[0minst\u001b[0m\u001b[0;34m)\u001b[0m\u001b[0;34m\u001b[0m\u001b[0m\n\u001b[0m\u001b[1;32m    266\u001b[0m             \u001b[0mself\u001b[0m\u001b[0;34m.\u001b[0m\u001b[0mstorevar\u001b[0m\u001b[0;34m(\u001b[0m\u001b[0mval\u001b[0m\u001b[0;34m,\u001b[0m \u001b[0minst\u001b[0m\u001b[0;34m.\u001b[0m\u001b[0mtarget\u001b[0m\u001b[0;34m.\u001b[0m\u001b[0mname\u001b[0m\u001b[0;34m)\u001b[0m\u001b[0;34m\u001b[0m\u001b[0m\n\u001b[1;32m    267\u001b[0m \u001b[0;34m\u001b[0m\u001b[0m\n",
      "\u001b[0;32m~/.conda/envs/javelin/lib/python3.6/site-packages/numba/lowering.py\u001b[0m in \u001b[0;36mlower_assign\u001b[0;34m(self, ty, inst)\u001b[0m\n\u001b[1;32m    409\u001b[0m \u001b[0;34m\u001b[0m\u001b[0m\n\u001b[1;32m    410\u001b[0m         \u001b[0;32melif\u001b[0m \u001b[0misinstance\u001b[0m\u001b[0;34m(\u001b[0m\u001b[0mvalue\u001b[0m\u001b[0;34m,\u001b[0m \u001b[0mir\u001b[0m\u001b[0;34m.\u001b[0m\u001b[0mExpr\u001b[0m\u001b[0;34m)\u001b[0m\u001b[0;34m:\u001b[0m\u001b[0;34m\u001b[0m\u001b[0m\n\u001b[0;32m--> 411\u001b[0;31m             \u001b[0;32mreturn\u001b[0m \u001b[0mself\u001b[0m\u001b[0;34m.\u001b[0m\u001b[0mlower_expr\u001b[0m\u001b[0;34m(\u001b[0m\u001b[0mty\u001b[0m\u001b[0;34m,\u001b[0m \u001b[0mvalue\u001b[0m\u001b[0;34m)\u001b[0m\u001b[0;34m\u001b[0m\u001b[0m\n\u001b[0m\u001b[1;32m    412\u001b[0m \u001b[0;34m\u001b[0m\u001b[0m\n\u001b[1;32m    413\u001b[0m         \u001b[0;32melif\u001b[0m \u001b[0misinstance\u001b[0m\u001b[0;34m(\u001b[0m\u001b[0mvalue\u001b[0m\u001b[0;34m,\u001b[0m \u001b[0mir\u001b[0m\u001b[0;34m.\u001b[0m\u001b[0mVar\u001b[0m\u001b[0;34m)\u001b[0m\u001b[0;34m:\u001b[0m\u001b[0;34m\u001b[0m\u001b[0m\n",
      "\u001b[0;32m~/.conda/envs/javelin/lib/python3.6/site-packages/numba/lowering.py\u001b[0m in \u001b[0;36mlower_expr\u001b[0;34m(self, resty, expr)\u001b[0m\n\u001b[1;32m    757\u001b[0m             \u001b[0;34m[\u001b[0m\u001b[0mfty\u001b[0m\u001b[0;34m]\u001b[0m \u001b[0;34m=\u001b[0m \u001b[0msignature\u001b[0m\u001b[0;34m.\u001b[0m\u001b[0margs\u001b[0m\u001b[0;34m\u001b[0m\u001b[0m\n\u001b[1;32m    758\u001b[0m             \u001b[0mcastval\u001b[0m \u001b[0;34m=\u001b[0m \u001b[0mself\u001b[0m\u001b[0;34m.\u001b[0m\u001b[0mcontext\u001b[0m\u001b[0;34m.\u001b[0m\u001b[0mcast\u001b[0m\u001b[0;34m(\u001b[0m\u001b[0mself\u001b[0m\u001b[0;34m.\u001b[0m\u001b[0mbuilder\u001b[0m\u001b[0;34m,\u001b[0m \u001b[0mval\u001b[0m\u001b[0;34m,\u001b[0m \u001b[0mty\u001b[0m\u001b[0;34m,\u001b[0m \u001b[0mfty\u001b[0m\u001b[0;34m)\u001b[0m\u001b[0;34m\u001b[0m\u001b[0m\n\u001b[0;32m--> 759\u001b[0;31m             \u001b[0mres\u001b[0m \u001b[0;34m=\u001b[0m \u001b[0mimpl\u001b[0m\u001b[0;34m(\u001b[0m\u001b[0mself\u001b[0m\u001b[0;34m.\u001b[0m\u001b[0mbuilder\u001b[0m\u001b[0;34m,\u001b[0m \u001b[0;34m(\u001b[0m\u001b[0mcastval\u001b[0m\u001b[0;34m,\u001b[0m\u001b[0;34m)\u001b[0m\u001b[0;34m)\u001b[0m\u001b[0;34m\u001b[0m\u001b[0m\n\u001b[0m\u001b[1;32m    760\u001b[0m             res = self.context.cast(self.builder, res, signature.return_type,\n\u001b[1;32m    761\u001b[0m                                     resty)\n",
      "\u001b[0;32m~/.conda/envs/javelin/lib/python3.6/site-packages/numba/targets/base.py\u001b[0m in \u001b[0;36m__call__\u001b[0;34m(self, builder, args)\u001b[0m\n\u001b[1;32m   1044\u001b[0m \u001b[0;34m\u001b[0m\u001b[0m\n\u001b[1;32m   1045\u001b[0m     \u001b[0;32mdef\u001b[0m \u001b[0m__call__\u001b[0m\u001b[0;34m(\u001b[0m\u001b[0mself\u001b[0m\u001b[0;34m,\u001b[0m \u001b[0mbuilder\u001b[0m\u001b[0;34m,\u001b[0m \u001b[0margs\u001b[0m\u001b[0;34m)\u001b[0m\u001b[0;34m:\u001b[0m\u001b[0;34m\u001b[0m\u001b[0m\n\u001b[0;32m-> 1046\u001b[0;31m         \u001b[0;32mreturn\u001b[0m \u001b[0mself\u001b[0m\u001b[0;34m.\u001b[0m\u001b[0m_imp\u001b[0m\u001b[0;34m(\u001b[0m\u001b[0mself\u001b[0m\u001b[0;34m.\u001b[0m\u001b[0m_context\u001b[0m\u001b[0;34m,\u001b[0m \u001b[0mbuilder\u001b[0m\u001b[0;34m,\u001b[0m \u001b[0mself\u001b[0m\u001b[0;34m.\u001b[0m\u001b[0m_sig\u001b[0m\u001b[0;34m,\u001b[0m \u001b[0margs\u001b[0m\u001b[0;34m)\u001b[0m\u001b[0;34m\u001b[0m\u001b[0m\n\u001b[0m\u001b[1;32m   1047\u001b[0m \u001b[0;34m\u001b[0m\u001b[0m\n\u001b[1;32m   1048\u001b[0m     \u001b[0;32mdef\u001b[0m \u001b[0m__getattr__\u001b[0m\u001b[0;34m(\u001b[0m\u001b[0mself\u001b[0m\u001b[0;34m,\u001b[0m \u001b[0mitem\u001b[0m\u001b[0;34m)\u001b[0m\u001b[0;34m:\u001b[0m\u001b[0;34m\u001b[0m\u001b[0m\n",
      "\u001b[0;32m~/.conda/envs/javelin/lib/python3.6/site-packages/numba/targets/imputils.py\u001b[0m in \u001b[0;36mwrapper\u001b[0;34m(context, builder, sig, args)\u001b[0m\n\u001b[1;32m    304\u001b[0m         \u001b[0mpairobj\u001b[0m \u001b[0;34m=\u001b[0m \u001b[0mcontext\u001b[0m\u001b[0;34m.\u001b[0m\u001b[0mmake_helper\u001b[0m\u001b[0;34m(\u001b[0m\u001b[0mbuilder\u001b[0m\u001b[0;34m,\u001b[0m \u001b[0mpair_type\u001b[0m\u001b[0;34m)\u001b[0m\u001b[0;34m\u001b[0m\u001b[0m\n\u001b[1;32m    305\u001b[0m         func(context, builder, sig, args,\n\u001b[0;32m--> 306\u001b[0;31m              _IternextResult(context, builder, pairobj))\n\u001b[0m\u001b[1;32m    307\u001b[0m         return impl_ret_borrowed(context, builder,\n\u001b[1;32m    308\u001b[0m                                  pair_type, pairobj._getvalue())\n",
      "\u001b[0;32m~/.conda/envs/javelin/lib/python3.6/site-packages/numba/targets/arrayobj.py\u001b[0m in \u001b[0;36miternext_array\u001b[0;34m(context, builder, sig, args, result)\u001b[0m\n\u001b[1;32m    284\u001b[0m     \u001b[0;32mif\u001b[0m \u001b[0marrayty\u001b[0m\u001b[0;34m.\u001b[0m\u001b[0mndim\u001b[0m \u001b[0;34m!=\u001b[0m \u001b[0;36m1\u001b[0m\u001b[0;34m:\u001b[0m\u001b[0;34m\u001b[0m\u001b[0m\n\u001b[1;32m    285\u001b[0m         \u001b[0;31m# TODO\u001b[0m\u001b[0;34m\u001b[0m\u001b[0;34m\u001b[0m\u001b[0m\n\u001b[0;32m--> 286\u001b[0;31m         \u001b[0;32mraise\u001b[0m \u001b[0mNotImplementedError\u001b[0m\u001b[0;34m(\u001b[0m\u001b[0;34m\"iterating over %dD array\"\u001b[0m \u001b[0;34m%\u001b[0m \u001b[0marrayty\u001b[0m\u001b[0;34m.\u001b[0m\u001b[0mndim\u001b[0m\u001b[0;34m)\u001b[0m\u001b[0;34m\u001b[0m\u001b[0m\n\u001b[0m\u001b[1;32m    287\u001b[0m \u001b[0;34m\u001b[0m\u001b[0m\n\u001b[1;32m    288\u001b[0m     \u001b[0miterobj\u001b[0m \u001b[0;34m=\u001b[0m \u001b[0mcontext\u001b[0m\u001b[0;34m.\u001b[0m\u001b[0mmake_helper\u001b[0m\u001b[0;34m(\u001b[0m\u001b[0mbuilder\u001b[0m\u001b[0;34m,\u001b[0m \u001b[0miterty\u001b[0m\u001b[0;34m,\u001b[0m \u001b[0mvalue\u001b[0m\u001b[0;34m=\u001b[0m\u001b[0miter\u001b[0m\u001b[0;34m)\u001b[0m\u001b[0;34m\u001b[0m\u001b[0m\n",
      "\u001b[0;31mLoweringError\u001b[0m: Failed at nopython (nopython mode backend)\niterating over 2D array\nFile \"<ipython-input-102-d0c2edfd87c9>\", line 2\n[1] During: lowering \"$6.2 = iternext(value=$2.2)\" at <ipython-input-102-d0c2edfd87c9> (2)"
     ]
    }
   ],
   "source": [
    "temp_array = np.zeros(grid.bins, dtype=np.complex)\n",
    "f1_jit_np(positions, temp_array, qx1, qy1, qz1)"
   ]
  },
  {
   "cell_type": "code",
   "execution_count": 133,
   "metadata": {},
   "outputs": [],
   "source": [
    "def f5(positions, temp_array, qx, qy, qz):\n",
    "    N = positions.shape[0]\n",
    "    for n in range(N):\n",
    "        temp_array += np.exp(qx*positions[n,0] + qy*positions[n,1] + qz*positions[n,2])"
   ]
  },
  {
   "cell_type": "code",
   "execution_count": 134,
   "metadata": {},
   "outputs": [],
   "source": [
    "f5_jit = jit()(f5)\n",
    "f5_jit_np = jit(nopython=True)(f5)\n",
    "f5_jit_np_p = jit(nopython=True,parallel=True)(f5)"
   ]
  },
  {
   "cell_type": "code",
   "execution_count": 135,
   "metadata": {},
   "outputs": [
    {
     "name": "stdout",
     "output_type": "stream",
     "text": [
      "(45992.5552559+289015.840671j)\n"
     ]
    }
   ],
   "source": [
    "temp_array = np.zeros(grid.bins, dtype=np.complex)\n",
    "f5(positions, temp_array, qx3, qy3, qz3)\n",
    "print(temp_array.sum())"
   ]
  },
  {
   "cell_type": "code",
   "execution_count": 136,
   "metadata": {},
   "outputs": [
    {
     "name": "stdout",
     "output_type": "stream",
     "text": [
      "(45992.5552559+289015.840671j)\n"
     ]
    }
   ],
   "source": [
    "temp_array = np.zeros(grid.bins, dtype=np.complex)\n",
    "f5_jit(positions, temp_array, qx3, qy3, qz3)\n",
    "print(temp_array.sum())"
   ]
  },
  {
   "cell_type": "code",
   "execution_count": 137,
   "metadata": {},
   "outputs": [
    {
     "name": "stdout",
     "output_type": "stream",
     "text": [
      "(45992.5552559+289015.840671j)\n"
     ]
    }
   ],
   "source": [
    "temp_array = np.zeros(grid.bins, dtype=np.complex)\n",
    "f5_jit_np(positions, temp_array, qx3, qy3, qz3)\n",
    "print(temp_array.sum())"
   ]
  },
  {
   "cell_type": "code",
   "execution_count": 138,
   "metadata": {},
   "outputs": [
    {
     "name": "stdout",
     "output_type": "stream",
     "text": [
      "(nan+3.45368545185e+299j)\n"
     ]
    }
   ],
   "source": [
    "temp_array = np.zeros(grid.bins, dtype=np.complex)\n",
    "f5_jit_np_p(positions, temp_array, qx3, qy3, qz3)\n",
    "print(temp_array.sum())"
   ]
  },
  {
   "cell_type": "code",
   "execution_count": 139,
   "metadata": {},
   "outputs": [
    {
     "name": "stdout",
     "output_type": "stream",
     "text": [
      "92.7 ms ± 33 µs per loop (mean ± std. dev. of 7 runs, 10 loops each)\n",
      "116 ms ± 70.7 µs per loop (mean ± std. dev. of 7 runs, 10 loops each)\n",
      "114 ms ± 4.05 ms per loop (mean ± std. dev. of 7 runs, 10 loops each)\n",
      "35.3 ms ± 1.75 ms per loop (mean ± std. dev. of 7 runs, 10 loops each)\n"
     ]
    }
   ],
   "source": [
    "temp_array = np.zeros(grid.bins, dtype=np.complex)\n",
    "%timeit f5(positions, temp_array, qx3, qy3, qz3)\n",
    "temp_array = np.zeros(grid.bins, dtype=np.complex)\n",
    "%timeit f5_jit(positions, temp_array, qx3, qy3, qz3)\n",
    "temp_array = np.zeros(grid.bins, dtype=np.complex)\n",
    "%timeit f5_jit_np(positions, temp_array, qx3, qy3, qz3)\n",
    "temp_array = np.zeros(grid.bins, dtype=np.complex)\n",
    "%timeit f5_jit_np_p(positions, temp_array, qx3, qy3, qz3)"
   ]
  },
  {
   "cell_type": "code",
   "execution_count": 140,
   "metadata": {
    "collapsed": true
   },
   "outputs": [
    {
     "name": "stdout",
     "output_type": "stream",
     "text": [
      "f5 (array(float64, 2d, A), array(complex128, 3d, C), array(complex128, 3d, C), array(complex128, 3d, C), array(complex128, 3d, C))\n",
      "--------------------------------------------------------------------------------\n",
      "# File: <ipython-input-133-e849fef06982>\n",
      "# --- LINE 1 --- \n",
      "# label 0\n",
      "#   del temp_array_shape.304\n",
      "#   del qx_shape.308\n",
      "#   del qy_shape.312\n",
      "#   del qz_shape.316\n",
      "#   del $const0.3\n",
      "#   del $0.2\n",
      "#   del $12.1\n",
      "#   del $0.4\n",
      "#   del $12.3\n",
      "\n",
      "def f5(positions, temp_array, qx, qy, qz):\n",
      "\n",
      "    # --- LINE 2 --- \n",
      "    #   positions = arg(0, name=positions)  :: array(float64, 2d, A)\n",
      "    #   temp_array = arg(1, name=temp_array)  :: array(complex128, 3d, C)\n",
      "    #   temp_array_shape.304 = getattr(value=temp_array, attr=shape)  :: (int64 x 3)\n",
      "    #   temp_array_size0.305 = static_getitem(value=temp_array_shape.304, index=0, index_var=None)  :: int64\n",
      "    #   temp_array_size1.306 = static_getitem(value=temp_array_shape.304, index=1, index_var=None)  :: int64\n",
      "    #   temp_array_size2.307 = static_getitem(value=temp_array_shape.304, index=2, index_var=None)  :: int64\n",
      "    #   qx = arg(2, name=qx)  :: array(complex128, 3d, C)\n",
      "    #   qx_shape.308 = getattr(value=qx, attr=shape)  :: (int64 x 3)\n",
      "    #   qx_size0.309 = static_getitem(value=qx_shape.308, index=0, index_var=None)  :: int64\n",
      "    #   qx_size1.310 = static_getitem(value=qx_shape.308, index=1, index_var=None)  :: int64\n",
      "    #   qx_size2.311 = static_getitem(value=qx_shape.308, index=2, index_var=None)  :: int64\n",
      "    #   qy = arg(3, name=qy)  :: array(complex128, 3d, C)\n",
      "    #   qy_shape.312 = getattr(value=qy, attr=shape)  :: (int64 x 3)\n",
      "    #   qy_size0.313 = static_getitem(value=qy_shape.312, index=0, index_var=None)  :: int64\n",
      "    #   qy_size1.314 = static_getitem(value=qy_shape.312, index=1, index_var=None)  :: int64\n",
      "    #   qy_size2.315 = static_getitem(value=qy_shape.312, index=2, index_var=None)  :: int64\n",
      "    #   qz = arg(4, name=qz)  :: array(complex128, 3d, C)\n",
      "    #   qz_shape.316 = getattr(value=qz, attr=shape)  :: (int64 x 3)\n",
      "    #   qz_size0.317 = static_getitem(value=qz_shape.316, index=0, index_var=None)  :: int64\n",
      "    #   qz_size1.318 = static_getitem(value=qz_shape.316, index=1, index_var=None)  :: int64\n",
      "    #   qz_size2.319 = static_getitem(value=qz_shape.316, index=2, index_var=None)  :: int64\n",
      "    #   $0.2 = getattr(value=positions, attr=shape)  :: (int64 x 2)\n",
      "    #   $const0.3 = const(int, 0)  :: int64\n",
      "    #   $0.4 = static_getitem(value=$0.2, index=0, index_var=$const0.3)  :: int64\n",
      "\n",
      "    N = positions.shape[0]\n",
      "\n",
      "    # --- LINE 3 --- \n",
      "    #   $12.1 = global(range: <class 'range'>)  :: Function(<class 'range'>)\n",
      "    #   $12.3 = call $12.1($0.4, func=$12.1, args=[Var($0.4, <ipython-input-133-e849fef06982> (2))], kws=(), vararg=None)  :: (int64,) -> range_state_int64\n",
      "    #   $12.4 = getiter(value=$12.3)  :: range_iter_int64\n",
      "    #   jump 1\n",
      "    # label 20\n",
      "    #   $20.2 = iternext(value=$12.4)  :: pair<int64, bool>\n",
      "    #   $20.3 = pair_first(value=$20.2)  :: int64\n",
      "    #   $20.4 = pair_second(value=$20.2)  :: bool\n",
      "    #   del $20.2\n",
      "    #   branch $20.4, 2, 3\n",
      "    # label 22\n",
      "    #   del $20.4\n",
      "    #   del $const22.8\n",
      "    #   del $22.9\n",
      "    #   del $const22.15\n",
      "    #   del $22.16\n",
      "    #   del $const22.23\n",
      "    #   del $20.3\n",
      "    #   del $22.24\n",
      "    #   del $54\n",
      "    #   del $53\n",
      "    #   del $52\n",
      "    #   del $57\n",
      "    #   del $56\n",
      "    #   del $55\n",
      "    #   del $60\n",
      "    #   del $59\n",
      "    #   del $58\n",
      "    #   del $63\n",
      "    #   del $62\n",
      "    #   del $61\n",
      "    #   del $66\n",
      "    #   del $65\n",
      "    #   del $64\n",
      "    #   del $69\n",
      "    #   del $68\n",
      "    #   del $67\n",
      "    #   del $22.25\n",
      "    #   del $22.17\n",
      "    #   del $22.10\n",
      "    #   del $22.28\n",
      "    #   del $22.29\n",
      "\n",
      "    for n in range(N):\n",
      "\n",
      "        # --- LINE 4 --- \n",
      "        #   $const22.8 = const(int, 0)  :: int64\n",
      "        #   $22.9 = build_tuple(items=[Var($20.3, <ipython-input-133-e849fef06982> (3)), Var($const22.8, <ipython-input-133-e849fef06982> (4))])  :: (int64 x 2)\n",
      "        #   $22.10 = getitem(value=positions, index=$22.9)  :: float64\n",
      "        #   $const22.15 = const(int, 1)  :: int64\n",
      "        #   $22.16 = build_tuple(items=[Var($20.3, <ipython-input-133-e849fef06982> (3)), Var($const22.15, <ipython-input-133-e849fef06982> (4))])  :: (int64 x 2)\n",
      "        #   $22.17 = getitem(value=positions, index=$22.16)  :: float64\n",
      "        #   $const22.23 = const(int, 2)  :: int64\n",
      "        #   $22.24 = build_tuple(items=[Var($20.3, <ipython-input-133-e849fef06982> (3)), Var($const22.23, <ipython-input-133-e849fef06982> (4))])  :: (int64 x 2)\n",
      "        #   $22.25 = getitem(value=positions, index=$22.24)  :: float64\n",
      "        #   $52 = const(str, Sizes of qx, qy, qz do not match)  :: const('Sizes of qx, qy, qz do not match')\n",
      "        #   $53 = global(assert_equiv: <intrinsic assert_equiv>)  :: Function(<intrinsic assert_equiv>)\n",
      "        #   $54 = call $53($52, qx_size2.311, qy_size2.315, qz_size2.319, func=$53, args=[Var($52, <ipython-input-133-e849fef06982> (4)), Var(qx_size2.311, <ipython-input-133-e849fef06982> (2)), Var(qy_size2.315, <ipython-input-133-e849fef06982> (2)), Var(qz_size2.319, <ipython-input-133-e849fef06982> (2))], kws={}, vararg=None)  :: ((const('Sizes of qx, qy, qz do not match'), int64, int64, int64),) -> none\n",
      "        #   $55 = const(str, Sizes of qx, qy, qz do not match)  :: const('Sizes of qx, qy, qz do not match')\n",
      "        #   $56 = global(assert_equiv: <intrinsic assert_equiv>)  :: Function(<intrinsic assert_equiv>)\n",
      "        #   $57 = call $56($55, qx_size1.310, qy_size1.314, qz_size1.318, func=$56, args=[Var($55, <ipython-input-133-e849fef06982> (4)), Var(qx_size1.310, <ipython-input-133-e849fef06982> (2)), Var(qy_size1.314, <ipython-input-133-e849fef06982> (2)), Var(qz_size1.318, <ipython-input-133-e849fef06982> (2))], kws={}, vararg=None)  :: ((const('Sizes of qx, qy, qz do not match'), int64, int64, int64),) -> none\n",
      "        #   $58 = const(str, Sizes of qx, qy, qz do not match)  :: const('Sizes of qx, qy, qz do not match')\n",
      "        #   $59 = global(assert_equiv: <intrinsic assert_equiv>)  :: Function(<intrinsic assert_equiv>)\n",
      "        #   $60 = call $59($58, qx_size0.309, qy_size0.313, qz_size0.317, func=$59, args=[Var($58, <ipython-input-133-e849fef06982> (4)), Var(qx_size0.309, <ipython-input-133-e849fef06982> (2)), Var(qy_size0.313, <ipython-input-133-e849fef06982> (2)), Var(qz_size0.317, <ipython-input-133-e849fef06982> (2))], kws={}, vararg=None)  :: ((const('Sizes of qx, qy, qz do not match'), int64, int64, int64),) -> none\n",
      "        #   $61 = const(str, Sizes of temp_array, $22.28 do not match)  :: const('Sizes of temp_array, $22.28 do not match')\n",
      "        #   $62 = global(assert_equiv: <intrinsic assert_equiv>)  :: Function(<intrinsic assert_equiv>)\n",
      "        #   $63 = call $62($61, temp_array_size2.307, qx_size2.311, func=$62, args=[Var($61, <ipython-input-133-e849fef06982> (4)), Var(temp_array_size2.307, <ipython-input-133-e849fef06982> (2)), Var(qx_size2.311, <ipython-input-133-e849fef06982> (2))], kws={}, vararg=None)  :: ((const('Sizes of temp_array, $22.28 do not match'), int64, int64),) -> none\n",
      "        #   $64 = const(str, Sizes of temp_array, $22.28 do not match)  :: const('Sizes of temp_array, $22.28 do not match')\n",
      "        #   $65 = global(assert_equiv: <intrinsic assert_equiv>)  :: Function(<intrinsic assert_equiv>)\n",
      "        #   $66 = call $65($64, temp_array_size1.306, qx_size1.310, func=$65, args=[Var($64, <ipython-input-133-e849fef06982> (4)), Var(temp_array_size1.306, <ipython-input-133-e849fef06982> (2)), Var(qx_size1.310, <ipython-input-133-e849fef06982> (2))], kws={}, vararg=None)  :: ((const('Sizes of temp_array, $22.28 do not match'), int64, int64),) -> none\n",
      "        #   $67 = const(str, Sizes of temp_array, $22.28 do not match)  :: const('Sizes of temp_array, $22.28 do not match')\n",
      "        #   $68 = global(assert_equiv: <intrinsic assert_equiv>)  :: Function(<intrinsic assert_equiv>)\n",
      "        #   $69 = call $68($67, temp_array_size0.305, qx_size0.309, func=$68, args=[Var($67, <ipython-input-133-e849fef06982> (4)), Var(temp_array_size0.305, <ipython-input-133-e849fef06982> (2)), Var(qx_size0.309, <ipython-input-133-e849fef06982> (2))], kws={}, vararg=None)  :: ((const('Sizes of temp_array, $22.28 do not match'), int64, int64),) -> none\n",
      "        #   [LoopNest(index_variable=parfor_index.326, range=0,temp_array_size0.305,1), LoopNest(index_variable=parfor_index.327, range=0,temp_array_size1.306,1), LoopNest(index_variable=parfor_index.328, range=0,temp_array_size2.307,1)]{87: <ir.Block at <ipython-input-133-e849fef06982> (4)>}Var($parfor_index_tuple_var.334, <ipython-input-133-e849fef06982> (4))\n",
      "        #   $22.29 = inplace_binop(fn=+=, immutable_fn=+, lhs=temp_array, rhs=$22.28, static_lhs=<object object at 0x7f5459aefff0>, static_rhs=<object object at 0x7f5459aefff0>)  :: array(complex128, 3d, C)\n",
      "        #   temp_array = $22.29  :: array(complex128, 3d, C)\n",
      "        #   jump 1\n",
      "        # label 84\n",
      "        #   del temp_array_size2.307\n",
      "        #   del temp_array_size1.306\n",
      "        #   del temp_array_size0.305\n",
      "        #   del temp_array\n",
      "        #   del qz_size2.319\n",
      "        #   del qz_size1.318\n",
      "        #   del qz_size0.317\n",
      "        #   del qz\n",
      "        #   del qy_size2.315\n",
      "        #   del qy_size1.314\n",
      "        #   del qy_size0.313\n",
      "        #   del qy\n",
      "        #   del qx_size2.311\n",
      "        #   del qx_size1.310\n",
      "        #   del qx_size0.309\n",
      "        #   del qx\n",
      "        #   del positions\n",
      "        #   del parfor_index.328\n",
      "        #   del parfor_index.327\n",
      "        #   del parfor_index.326\n",
      "        #   del $20.4\n",
      "        #   del $20.3\n",
      "        #   del $12.4\n",
      "        #   $const86.1 = const(NoneType, None)  :: none\n",
      "        #   $86.2 = cast(value=$const86.1)  :: none\n",
      "        #   del $const86.1\n",
      "        #   return $86.2\n",
      "\n",
      "        temp_array += np.exp(qx*positions[n,0] + qy*positions[n,1] + qz*positions[n,2])\n",
      "\n",
      "\n",
      "================================================================================\n"
     ]
    }
   ],
   "source": [
    "f5_jit_np_p.inspect_types()"
   ]
  },
  {
   "cell_type": "code",
   "execution_count": 141,
   "metadata": {},
   "outputs": [],
   "source": [
    "@jit(nopython=True, parallel=True)\n",
    "def f6_exp(position,temp_array,qx,qy,qz):\n",
    "    temp_array += np.exp(qx*positions[0] + qy*positions[1] + qz*positions[2])\n",
    "\n",
    "def f6(positions, temp_array, qx, qy, qz):\n",
    "    N = positions.shape[0]\n",
    "    for n in range(N):\n",
    "        f6_exp(positions[n], temp_array, qx, qy, qz)"
   ]
  },
  {
   "cell_type": "code",
   "execution_count": 142,
   "metadata": {},
   "outputs": [
    {
     "ename": "AssertionError",
     "evalue": "Sizes of qx, $0.7, qy, $0.12, qz, $0.18 do not match",
     "output_type": "error",
     "traceback": [
      "\u001b[0;31m---------------------------------------------------------------------------\u001b[0m",
      "\u001b[0;31mAssertionError\u001b[0m                            Traceback (most recent call last)",
      "\u001b[0;32m<ipython-input-142-c35411bb1e3e>\u001b[0m in \u001b[0;36m<module>\u001b[0;34m()\u001b[0m\n\u001b[1;32m      1\u001b[0m \u001b[0mtemp_array\u001b[0m \u001b[0;34m=\u001b[0m \u001b[0mnp\u001b[0m\u001b[0;34m.\u001b[0m\u001b[0mzeros\u001b[0m\u001b[0;34m(\u001b[0m\u001b[0mgrid\u001b[0m\u001b[0;34m.\u001b[0m\u001b[0mbins\u001b[0m\u001b[0;34m,\u001b[0m \u001b[0mdtype\u001b[0m\u001b[0;34m=\u001b[0m\u001b[0mnp\u001b[0m\u001b[0;34m.\u001b[0m\u001b[0mcomplex\u001b[0m\u001b[0;34m)\u001b[0m\u001b[0;34m\u001b[0m\u001b[0m\n\u001b[0;32m----> 2\u001b[0;31m \u001b[0mf6\u001b[0m\u001b[0;34m(\u001b[0m\u001b[0mpositions\u001b[0m\u001b[0;34m,\u001b[0m \u001b[0mtemp_array\u001b[0m\u001b[0;34m,\u001b[0m \u001b[0mqx3\u001b[0m\u001b[0;34m,\u001b[0m \u001b[0mqy3\u001b[0m\u001b[0;34m,\u001b[0m \u001b[0mqz3\u001b[0m\u001b[0;34m)\u001b[0m\u001b[0;34m\u001b[0m\u001b[0m\n\u001b[0m\u001b[1;32m      3\u001b[0m \u001b[0mprint\u001b[0m\u001b[0;34m(\u001b[0m\u001b[0mtemp_array\u001b[0m\u001b[0;34m.\u001b[0m\u001b[0msum\u001b[0m\u001b[0;34m(\u001b[0m\u001b[0;34m)\u001b[0m\u001b[0;34m)\u001b[0m\u001b[0;34m\u001b[0m\u001b[0m\n",
      "\u001b[0;32m<ipython-input-141-10699ef27bf6>\u001b[0m in \u001b[0;36mf6\u001b[0;34m(positions, temp_array, qx, qy, qz)\u001b[0m\n\u001b[1;32m      6\u001b[0m     \u001b[0mN\u001b[0m \u001b[0;34m=\u001b[0m \u001b[0mpositions\u001b[0m\u001b[0;34m.\u001b[0m\u001b[0mshape\u001b[0m\u001b[0;34m[\u001b[0m\u001b[0;36m0\u001b[0m\u001b[0;34m]\u001b[0m\u001b[0;34m\u001b[0m\u001b[0m\n\u001b[1;32m      7\u001b[0m     \u001b[0;32mfor\u001b[0m \u001b[0mn\u001b[0m \u001b[0;32min\u001b[0m \u001b[0mrange\u001b[0m\u001b[0;34m(\u001b[0m\u001b[0mN\u001b[0m\u001b[0;34m)\u001b[0m\u001b[0;34m:\u001b[0m\u001b[0;34m\u001b[0m\u001b[0m\n\u001b[0;32m----> 8\u001b[0;31m         \u001b[0mf6_exp\u001b[0m\u001b[0;34m(\u001b[0m\u001b[0mpositions\u001b[0m\u001b[0;34m[\u001b[0m\u001b[0mn\u001b[0m\u001b[0;34m]\u001b[0m\u001b[0;34m,\u001b[0m \u001b[0mtemp_array\u001b[0m\u001b[0;34m,\u001b[0m \u001b[0mqx\u001b[0m\u001b[0;34m,\u001b[0m \u001b[0mqy\u001b[0m\u001b[0;34m,\u001b[0m \u001b[0mqz\u001b[0m\u001b[0;34m)\u001b[0m\u001b[0;34m\u001b[0m\u001b[0m\n\u001b[0m",
      "\u001b[0;31mAssertionError\u001b[0m: Sizes of qx, $0.7, qy, $0.12, qz, $0.18 do not match"
     ]
    }
   ],
   "source": [
    "temp_array = np.zeros(grid.bins, dtype=np.complex)\n",
    "f6(positions, temp_array, qx3, qy3, qz3)\n",
    "print(temp_array.sum())"
   ]
  },
  {
   "cell_type": "code",
   "execution_count": null,
   "metadata": {},
   "outputs": [],
   "source": [
    "def f7(positions, temp_array, qx, qy, qz):\n",
    "    N = positions.shape[0]\n",
    "    for n in range(N):\n",
    "        dotx = np.exp(qx*positions[n,0]*1j)\n",
    "        doty = np.exp(qy*positions[n,1]*1j)\n",
    "        dotz = np.exp(qz*positions[n,2]*1j)\n",
    "        temp_array += dotx * doty * dotz"
   ]
  },
  {
   "cell_type": "code",
   "execution_count": null,
   "metadata": {},
   "outputs": [],
   "source": [
    "temp_array = np.zeros(grid.bins, dtype=np.complex)\n",
    "f7(positions, temp_array, qx1, qy1, qz1)\n",
    "print(temp_array.sum())"
   ]
  },
  {
   "cell_type": "code",
   "execution_count": null,
   "metadata": {},
   "outputs": [],
   "source": [
    "f7_jit=jit()(f7)\n",
    "f7_jit_np=jit(nopython=True)(f7)\n",
    "f7_jit_np_p=jit(nopython=True,parallel=True)(f7)"
   ]
  },
  {
   "cell_type": "code",
   "execution_count": null,
   "metadata": {},
   "outputs": [],
   "source": [
    "temp_array = np.zeros(grid.bins, dtype=np.complex)\n",
    "f7(positions, temp_array, qx1, qy1, qz1)\n",
    "print(temp_array.sum())"
   ]
  },
  {
   "cell_type": "code",
   "execution_count": null,
   "metadata": {},
   "outputs": [],
   "source": [
    "temp_array = np.zeros(grid.bins, dtype=np.complex)\n",
    "f7_jit(positions, temp_array, qx1, qy1, qz1)\n",
    "print(temp_array.sum())"
   ]
  },
  {
   "cell_type": "code",
   "execution_count": null,
   "metadata": {},
   "outputs": [],
   "source": [
    "temp_array = np.zeros(grid.bins, dtype=np.complex)\n",
    "f7_jit_np(positions, temp_array, qx1, qy1, qz1)\n",
    "print(temp_array.sum())"
   ]
  },
  {
   "cell_type": "code",
   "execution_count": null,
   "metadata": {},
   "outputs": [],
   "source": [
    "temp_array = np.zeros(grid.bins, dtype=np.complex)\n",
    "f7_jit_np_p(positions, temp_array, qx1, qy1, qz1)\n",
    "print(temp_array.sum())"
   ]
  },
  {
   "cell_type": "code",
   "execution_count": null,
   "metadata": {},
   "outputs": [],
   "source": []
  }
 ],
 "metadata": {
  "kernelspec": {
   "display_name": "Python 3",
   "language": "python",
   "name": "python3"
  },
  "language_info": {
   "codemirror_mode": {
    "name": "ipython",
    "version": 3
   },
   "file_extension": ".py",
   "mimetype": "text/x-python",
   "name": "python",
   "nbconvert_exporter": "python",
   "pygments_lexer": "ipython3",
   "version": "3.6.3"
  }
 },
 "nbformat": 4,
 "nbformat_minor": 2
}
